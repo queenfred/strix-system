{
 "cells": [
  {
   "cell_type": "code",
   "execution_count": 4,
   "metadata": {},
   "outputs": [
    {
     "name": "stdout",
     "output_type": "stream",
     "text": [
      "🔹 sys.path actualizado: ['C:\\\\Desarrollo\\\\security', 'C:\\\\Desarrollo\\\\security', 'C:\\\\Desarrollo\\\\security', 'c:\\\\Users\\\\gsolomita\\\\AppData\\\\Local\\\\Programs\\\\Python\\\\Python312\\\\python312.zip', 'c:\\\\Users\\\\gsolomita\\\\AppData\\\\Local\\\\Programs\\\\Python\\\\Python312\\\\DLLs', 'c:\\\\Users\\\\gsolomita\\\\AppData\\\\Local\\\\Programs\\\\Python\\\\Python312\\\\Lib', 'c:\\\\Users\\\\gsolomita\\\\AppData\\\\Local\\\\Programs\\\\Python\\\\Python312', '', 'C:\\\\Users\\\\gsolomita\\\\AppData\\\\Roaming\\\\Python\\\\Python312\\\\site-packages', 'C:\\\\Users\\\\gsolomita\\\\AppData\\\\Roaming\\\\Python\\\\Python312\\\\site-packages\\\\win32', 'C:\\\\Users\\\\gsolomita\\\\AppData\\\\Roaming\\\\Python\\\\Python312\\\\site-packages\\\\win32\\\\lib', 'C:\\\\Users\\\\gsolomita\\\\AppData\\\\Roaming\\\\Python\\\\Python312\\\\site-packages\\\\Pythonwin', 'c:\\\\Users\\\\gsolomita\\\\AppData\\\\Local\\\\Programs\\\\Python\\\\Python312\\\\Lib\\\\site-packages']\n"
     ]
    }
   ],
   "source": [
    "import sys\n",
    "import os\n",
    "\n",
    "ROOT_DIR = os.path.abspath(os.path.join(os.getcwd(), \"..\")) \n",
    "ROOT_DIR\n",
    "\n",
    "# Definir la ruta de la raíz del proyecto\n",
    "ROOT_DIR = r\"C:\\Desarrollo\\security\"\n",
    "sys.path.insert(0, ROOT_DIR)  # Agregarla al sys.path\n",
    "# Verificar que se agregó correctamente\n",
    "print(\"🔹 sys.path actualizado:\", sys.path)\n",
    "\n"
   ]
  },
  {
   "cell_type": "code",
   "execution_count": 5,
   "metadata": {},
   "outputs": [],
   "source": [
    "from services.access_control_service import AccessControlService\n",
    "from services.access_control_service_extended import AccessControlServiceExtended\n",
    "from services.user_service import UserService\n",
    "from sqlalchemy import text\n",
    "from infraestructure.db.session import SessionFactory"
   ]
  },
  {
   "cell_type": "code",
   "execution_count": 6,
   "metadata": {},
   "outputs": [],
   "source": [
    "\n",
    "\n",
    "def run_security_tests():\n",
    "    print(\"🔐 Iniciando pruebas de módulo de seguridad...\")\n",
    "\n",
    "    # Servicios\n",
    "    user_service = UserService()\n",
    "    acs = AccessControlService()\n",
    "    ace = AccessControlServiceExtended()\n",
    "\n",
    "    # Crear usuario (o usar existente)\n",
    "    user = user_service.register_user(\"adminuser\", \"admin@example.com\", \"adminpass\", \"Admin User\")\n",
    "    if not user:\n",
    "        print(\"⚠️ Usuario 'adminuser' ya existía. Se usará el existente.\")\n",
    "        user = user_service.get_user(\"adminuser\")\n",
    "\n",
    "    assert user[\"id\"]\n",
    "    print(f\"✅ Usuario: {user['username']}\")\n",
    "\n",
    "    perm_view = acs.get_or_create_permission(\"view_reports\", \"Ver reportes del sistema\")\n",
    "    perm_edit = acs.get_or_create_permission(\"edit_users\", \"Editar usuarios\")\n",
    "\n",
    "    # Crear rol (o usar existente)\n",
    "    role_admin = acs.get_or_create_role(\"admin\", \"Administrador del sistema\")\n",
    "    print(f\"✅ Rol: {role_admin['name']}\")\n",
    "\n",
    "    # Asignar permisos al usuario directamente\n",
    "    ace.assign_permission(user[\"id\"], perm_view[\"id\"])\n",
    "    print(f\"✅ Permiso '{perm_view['name']}' asignado directamente al usuario\")\n",
    "\n",
    "    # Asignar rol al usuario\n",
    "    ace.assign_role(user[\"id\"], role_admin[\"id\"])\n",
    "    print(f\"✅ Rol '{role_admin['name']}' asignado al usuario\")\n",
    "\n",
    "    # Asignar permiso al rol (si no existe)\n",
    "    ace.assign_permission_to_role(role_admin[\"id\"], perm_edit[\"id\"])\n",
    "    print(f\"✅ Permiso '{perm_edit['name']}' asignado al rol '{role_admin['name']}'\")\n",
    "\n",
    "\n",
    "    # Verificar acceso del usuario a ambos permisos\n",
    "    assert ace.check_access(user[\"id\"], \"view_reports\") is True\n",
    "    print(\"✅ Usuario tiene acceso a 'view_reports' ✔\")\n",
    "\n",
    "    assert ace.check_access(user[\"id\"], \"edit_users\") is True\n",
    "    print(\"✅ Usuario tiene acceso a 'edit_users' vía rol ✔\")\n",
    "\n",
    "    assert ace.check_access(user[\"id\"], \"nonexistent_perm\") is False\n",
    "    print(\"✅ Usuario NO tiene acceso a 'nonexistent_perm' ❌\")\n",
    "\n",
    "    print(\"🎉 Todas las pruebas de seguridad pasaron exitosamente.\")\n",
    "\n",
    "\n"
   ]
  },
  {
   "cell_type": "code",
   "execution_count": 7,
   "metadata": {},
   "outputs": [
    {
     "name": "stdout",
     "output_type": "stream",
     "text": [
      "🔐 Iniciando pruebas de módulo de seguridad...\n",
      "✅ Conexión a PostgreSQL establecida.\n",
      "⚠️ El usuario 'adminuser' ya existe.\n",
      "⚠️ Usuario 'adminuser' ya existía. Se usará el existente.\n",
      "✅ Usuario: adminuser\n",
      "✅ Rol: admin\n",
      "✅ Permiso 'view_reports' asignado directamente al usuario\n",
      "✅ Rol 'admin' asignado al usuario\n",
      "✅ Permiso 'edit_users' asignado al rol 'admin'\n",
      "✅ Usuario tiene acceso a 'view_reports' ✔\n",
      "✅ Usuario tiene acceso a 'edit_users' vía rol ✔\n",
      "✅ Usuario NO tiene acceso a 'nonexistent_perm' ❌\n",
      "🎉 Todas las pruebas de seguridad pasaron exitosamente.\n"
     ]
    }
   ],
   "source": [
    "\n",
    "run_security_tests()"
   ]
  },
  {
   "cell_type": "code",
   "execution_count": 8,
   "metadata": {},
   "outputs": [
    {
     "name": "stdout",
     "output_type": "stream",
     "text": [
      "🔐 Iniciando pruebas de módulo de seguridad...\n"
     ]
    },
    {
     "ename": "NameError",
     "evalue": "name 'UserService' is not defined",
     "output_type": "error",
     "traceback": [
      "\u001b[1;31m---------------------------------------------------------------------------\u001b[0m",
      "\u001b[1;31mNameError\u001b[0m                                 Traceback (most recent call last)",
      "Cell \u001b[1;32mIn[8], line 4\u001b[0m\n\u001b[0;32m      1\u001b[0m \u001b[38;5;28mprint\u001b[39m(\u001b[38;5;124m\"\u001b[39m\u001b[38;5;124m🔐 Iniciando pruebas de módulo de seguridad...\u001b[39m\u001b[38;5;124m\"\u001b[39m)\n\u001b[0;32m      3\u001b[0m \u001b[38;5;66;03m# Servicios\u001b[39;00m\n\u001b[1;32m----> 4\u001b[0m user_service \u001b[38;5;241m=\u001b[39m \u001b[43mUserService\u001b[49m()\n\u001b[0;32m      5\u001b[0m acs \u001b[38;5;241m=\u001b[39m AccessControlService()\n\u001b[0;32m      6\u001b[0m ace \u001b[38;5;241m=\u001b[39m AccessControlServiceExtended()\n",
      "\u001b[1;31mNameError\u001b[0m: name 'UserService' is not defined"
     ]
    }
   ],
   "source": [
    "print(\"🔐 Iniciando pruebas de módulo de seguridad...\")\n",
    "\n",
    "# Servicios\n",
    "user_service = UserService()\n",
    "acs = AccessControlService()\n",
    "ace = AccessControlServiceExtended()\n",
    "\n",
    "# Crear usuario\n",
    "user = user_service.register_user(\"adminuser\", \"admin@example.com\", \"adminpass\", \"Admin User\")\n",
    "assert user[\"id\"]\n",
    "print(f\"✅ Usuario creado: {user['username']}\")"
   ]
  }
 ],
 "metadata": {
  "kernelspec": {
   "display_name": "Python 3",
   "language": "python",
   "name": "python3"
  },
  "language_info": {
   "codemirror_mode": {
    "name": "ipython",
    "version": 3
   },
   "file_extension": ".py",
   "mimetype": "text/x-python",
   "name": "python",
   "nbconvert_exporter": "python",
   "pygments_lexer": "ipython3",
   "version": "3.12.6"
  }
 },
 "nbformat": 4,
 "nbformat_minor": 2
}
