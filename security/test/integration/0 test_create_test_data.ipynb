{
 "cells": [
  {
   "cell_type": "code",
   "execution_count": 1,
   "metadata": {},
   "outputs": [],
   "source": [
    "import sys\n",
    "import os\n",
    "\n",
    "# Agregar la ruta al proyecto para importar core desde security\n",
    "sys.path.append(\"C:/Desarrollo/strix-system\")\n",
    "\n",
    "from security.services.user_service import UserService\n",
    "from security.services.access_control_service import AccessControlService\n",
    "from core.infraestructure.uow.sqlalchemy_uow import SQLAlchemyUnitOfWork\n",
    "from sqlalchemy.exc import IntegrityError\n",
    "\n",
    "def crear_usuario_con_rol_y_permiso(username, email, password, full_name, role_name, permission_name, permission_description=None, role_description=None):\n",
    "    user_service = UserService()\n",
    "    access_service = AccessControlService()\n",
    "\n",
    "    with SQLAlchemyUnitOfWork() as uow:\n",
    "        # 1. Crear permiso\n",
    "        permission = access_service.get_or_create_permission(\n",
    "            name=permission_name,\n",
    "            description=permission_description,\n",
    "            uow=uow\n",
    "        )\n",
    "        print(\"✅ Permiso listo:\", permission)\n",
    "\n",
    "        # 2. Crear rol\n",
    "        role = access_service.get_or_create_role(\n",
    "            name=role_name,\n",
    "            description=role_description,\n",
    "            uow=uow\n",
    "        )\n",
    "        print(\"✅ Rol listo:\", role)\n",
    "\n",
    "        # 3. Asignar permiso al rol\n",
    "        access_service.assign_permission_to_role(\n",
    "            role_id=role[\"id\"],\n",
    "            permission_id=permission[\"id\"],\n",
    "            uow=uow\n",
    "        )\n",
    "        print(\"✅ Permiso asignado al rol\")\n",
    "\n",
    "        # 4. Crear usuario\n",
    "        user = user_service.register_user(\n",
    "            username=username,\n",
    "            email=email,\n",
    "            password=password,\n",
    "            full_name=full_name,\n",
    "            uow=uow\n",
    "        )\n",
    "        if user is None:\n",
    "            print(f\"⚠️ No se creó el usuario '{username}' (puede que ya exista)\")\n",
    "            return None\n",
    "\n",
    "        print(\"✅ Usuario creado:\", user)\n",
    "\n",
    "        # 5. Asignar rol al usuario\n",
    "        access_service.assign_role_to_user(\n",
    "            user_id=user[\"id\"],\n",
    "            role_id=role[\"id\"],\n",
    "            uow=uow\n",
    "        )\n",
    "        print(\"✅ Rol asignado al usuario\")\n",
    "\n",
    "        # Commit final (podría omitirse si cada método hace commit interno)\n",
    "        uow.commit()\n",
    "\n",
    "        return {\n",
    "            \"user\": user,\n",
    "            \"role\": role,\n",
    "            \"permission\": permission\n",
    "        }\n"
   ]
  },
  {
   "cell_type": "code",
   "execution_count": 2,
   "metadata": {},
   "outputs": [
    {
     "name": "stdout",
     "output_type": "stream",
     "text": [
      "✅ Nueva Conexión a PostgreSQL establecida.\n",
      "🚨 ENTER: Se abrió una nueva conexión SQLAlchemy\n",
      "✅ Permiso listo: {'id': 70, 'name': 'view_reports2', 'description': 'Puede ver reportes2'}\n",
      "✅ Rol listo: {'id': 69, 'name': 'tester_role2', 'description': 'Rol de prueba'}\n",
      "✅ Permiso asignado al rol\n",
      "⚠️ Usuario 'testuser991' ya existe.\n",
      "⚠️ No se creó el usuario 'testuser991' (puede que ya exista)\n"
     ]
    }
   ],
   "source": [
    "crear_usuario_con_rol_y_permiso(\n",
    "    username=\"testuser991\",\n",
    "    email=\"test99@example1.com\",\n",
    "    password=\"testpass1231\",\n",
    "    full_name=\"Tester 991\",\n",
    "    role_name=\"tester_role2\",\n",
    "    permission_name=\"view_reports2\",\n",
    "    permission_description=\"Puede ver reportes2\",\n",
    "    role_description=\"Rol de prueba\"\n",
    ")"
   ]
  },
  {
   "cell_type": "code",
   "execution_count": null,
   "metadata": {},
   "outputs": [],
   "source": []
  },
  {
   "cell_type": "code",
   "execution_count": 1,
   "metadata": {},
   "outputs": [],
   "source": [
    "import sys\n",
    "import os\n",
    "\n",
    "# Agregar la ruta al proyecto para importar core desde security\n",
    "sys.path.append(\"C:/Desarrollo/strix-system\")"
   ]
  },
  {
   "cell_type": "code",
   "execution_count": 3,
   "metadata": {},
   "outputs": [],
   "source": [
    "from security.services.user_service import UserService\n",
    "from security.services.access_control_service import AccessControlService\n",
    "from core.infraestructure.uow.sqlalchemy_uow import SQLAlchemyUnitOfWork\n",
    "\n",
    "#from security.data_access.user_repository import UserRepository\n"
   ]
  },
  {
   "cell_type": "code",
   "execution_count": 5,
   "metadata": {},
   "outputs": [
    {
     "name": "stdout",
     "output_type": "stream",
     "text": [
      "🚨 ENTER: Se abrió una nueva conexión SQLAlchemy\n",
      "🚨 ENTER: Se abrió una nueva conexión SQLAlchemy\n",
      "✅ Permiso obtenido o creado: {'id': 70, 'name': 'view_reports2', 'description': 'Puede ver reportes2'}\n"
     ]
    }
   ],
   "source": [
    "user_service = UserService()\n",
    "access_service = AccessControlService()\n",
    "\n",
    "with SQLAlchemyUnitOfWork() as uow:\n",
    "    user_repo = uow.users  # ¡ya está instanciado con sesión!\n",
    "\n",
    "username = \"testuser991\"\n",
    "password = \"testpass1231\"\n",
    "email = \"test99@example1.com\"\n",
    "full_name = \"Tester 991\"\n",
    "role_name = \"tester_role2\"\n",
    "permission_name = \"view_reports2\"\n",
    "\n",
    "permission = access_service.get_or_create_permission(name=permission_name, description=\"Puede ver reportes2\")\n",
    "assert permission is not None\n",
    "print(\"✅ Permiso obtenido o creado:\", permission)"
   ]
  },
  {
   "cell_type": "code",
   "execution_count": 6,
   "metadata": {},
   "outputs": [
    {
     "name": "stdout",
     "output_type": "stream",
     "text": [
      "🚨 ENTER: Se abrió una nueva conexión SQLAlchemy\n",
      "✅ Rol creado: {'id': 69, 'name': 'tester_role2', 'description': 'Rol de prueba'}\n"
     ]
    }
   ],
   "source": [
    "# 2. Crear el rol\n",
    "role = access_service.create_role(name=role_name, description=\"Rol de prueba\")\n",
    "assert role is not None\n",
    "print(\"✅ Rol creado:\", role)"
   ]
  },
  {
   "cell_type": "code",
   "execution_count": 7,
   "metadata": {},
   "outputs": [
    {
     "name": "stdout",
     "output_type": "stream",
     "text": [
      "🚨 ENTER: Se abrió una nueva conexión SQLAlchemy\n",
      "✅ Permiso 'view_reports2' asignado al rol 'tester_role2'\n"
     ]
    }
   ],
   "source": [
    "# 3. Asignar permiso al rol\n",
    "access_service.assign_permission_to_role(role_id=role[\"id\"], permission_id=permission[\"id\"])\n",
    "print(f\"✅ Permiso '{permission_name}' asignado al rol '{role_name}'\")"
   ]
  },
  {
   "cell_type": "code",
   "execution_count": 8,
   "metadata": {},
   "outputs": [
    {
     "name": "stdout",
     "output_type": "stream",
     "text": [
      "🚨 ENTER: Se abrió una nueva conexión SQLAlchemy\n",
      "⚠️ Usuario 'testuser991' ya existe.\n"
     ]
    }
   ],
   "source": [
    "# 4. Crear el usuario\n",
    "user = user_service.register_user(username=username, email=email, password=password, full_name=full_name)\n",
    "user\n"
   ]
  },
  {
   "cell_type": "code",
   "execution_count": 9,
   "metadata": {},
   "outputs": [
    {
     "ename": "TypeError",
     "evalue": "'NoneType' object is not subscriptable",
     "output_type": "error",
     "traceback": [
      "\u001b[1;31m---------------------------------------------------------------------------\u001b[0m",
      "\u001b[1;31mTypeError\u001b[0m                                 Traceback (most recent call last)",
      "Cell \u001b[1;32mIn[9], line 1\u001b[0m\n\u001b[1;32m----> 1\u001b[0m \u001b[43muser\u001b[49m\u001b[43m[\u001b[49m\u001b[38;5;124;43m\"\u001b[39;49m\u001b[38;5;124;43mid\u001b[39;49m\u001b[38;5;124;43m\"\u001b[39;49m\u001b[43m]\u001b[49m\n",
      "\u001b[1;31mTypeError\u001b[0m: 'NoneType' object is not subscriptable"
     ]
    }
   ],
   "source": []
  },
  {
   "cell_type": "code",
   "execution_count": 10,
   "metadata": {},
   "outputs": [
    {
     "ename": "TypeError",
     "evalue": "'NoneType' object is not subscriptable",
     "output_type": "error",
     "traceback": [
      "\u001b[1;31m---------------------------------------------------------------------------\u001b[0m",
      "\u001b[1;31mTypeError\u001b[0m                                 Traceback (most recent call last)",
      "Cell \u001b[1;32mIn[10], line 2\u001b[0m\n\u001b[0;32m      1\u001b[0m \u001b[38;5;66;03m# 5. Asignar el rol al usuario\u001b[39;00m\n\u001b[1;32m----> 2\u001b[0m access_service\u001b[38;5;241m.\u001b[39massign_role_to_user(user_id\u001b[38;5;241m=\u001b[39m\u001b[43muser\u001b[49m\u001b[43m[\u001b[49m\u001b[38;5;124;43m\"\u001b[39;49m\u001b[38;5;124;43mid\u001b[39;49m\u001b[38;5;124;43m\"\u001b[39;49m\u001b[43m]\u001b[49m, role_id\u001b[38;5;241m=\u001b[39mrole[\u001b[38;5;124m\"\u001b[39m\u001b[38;5;124mid\u001b[39m\u001b[38;5;124m\"\u001b[39m])\n\u001b[0;32m      3\u001b[0m \u001b[38;5;28mprint\u001b[39m(\u001b[38;5;124mf\u001b[39m\u001b[38;5;124m\"\u001b[39m\u001b[38;5;124m✅ Rol \u001b[39m\u001b[38;5;124m'\u001b[39m\u001b[38;5;132;01m{\u001b[39;00mrole_name\u001b[38;5;132;01m}\u001b[39;00m\u001b[38;5;124m'\u001b[39m\u001b[38;5;124m asignado al usuario \u001b[39m\u001b[38;5;124m'\u001b[39m\u001b[38;5;132;01m{\u001b[39;00musername\u001b[38;5;132;01m}\u001b[39;00m\u001b[38;5;124m'\u001b[39m\u001b[38;5;124m\"\u001b[39m)\n",
      "\u001b[1;31mTypeError\u001b[0m: 'NoneType' object is not subscriptable"
     ]
    }
   ],
   "source": [
    "# 5. Asignar el rol al usuario\n",
    "access_service.assign_role_to_user(user_id=user[\"id\"], role_id=role[\"id\"])\n",
    "print(f\"✅ Rol '{role_name}' asignado al usuario '{username}'\")"
   ]
  },
  {
   "cell_type": "code",
   "execution_count": 11,
   "metadata": {},
   "outputs": [
    {
     "name": "stdout",
     "output_type": "stream",
     "text": [
      "✅ Login correcto. Usuario autenticado.\n"
     ]
    }
   ],
   "source": [
    "# 6. Validar login y recuperar datos del usuario con roles y permisos\n",
    "result = user_repo.validate_user_credentials(username=username, raw_password=password)\n",
    "assert result is not None\n",
    "assert \"user\" in result\n",
    "assert \"roles\" in result\n",
    "print(\"✅ Login correcto. Usuario autenticado.\")"
   ]
  },
  {
   "cell_type": "code",
   "execution_count": 13,
   "metadata": {},
   "outputs": [
    {
     "name": "stdout",
     "output_type": "stream",
     "text": [
      "✅ El usuario tiene el rol asignado: tester_role2\n",
      "✅ El usuario tiene el permiso esperado: view_reports2\n",
      "🎉 TEST COMPLETO: Todo funcionó correctamente\n"
     ]
    }
   ],
   "source": [
    "roles = result[\"roles\"]\n",
    "assert any(r[\"name\"] == role_name for r in roles), \"El usuario no tiene el rol esperado\"\n",
    "print(\"✅ El usuario tiene el rol asignado:\", role_name)\n",
    "\n",
    "found_perm = any(p[\"name\"] == permission_name for r in roles for p in r[\"permissions\"])\n",
    "assert found_perm, \"El usuario no tiene el permiso esperado\"\n",
    "print(\"✅ El usuario tiene el permiso esperado:\", permission_name)\n",
    "\n",
    "print(\"🎉 TEST COMPLETO: Todo funcionó correctamente\")"
   ]
  }
 ],
 "metadata": {
  "kernelspec": {
   "display_name": "Python 3",
   "language": "python",
   "name": "python3"
  },
  "language_info": {
   "codemirror_mode": {
    "name": "ipython",
    "version": 3
   },
   "file_extension": ".py",
   "mimetype": "text/x-python",
   "name": "python",
   "nbconvert_exporter": "python",
   "pygments_lexer": "ipython3",
   "version": "3.12.6"
  }
 },
 "nbformat": 4,
 "nbformat_minor": 2
}
