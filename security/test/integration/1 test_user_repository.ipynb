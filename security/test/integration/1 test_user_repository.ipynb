{
 "cells": [
  {
   "cell_type": "code",
   "execution_count": 1,
   "metadata": {},
   "outputs": [],
   "source": [
    "import sys\n",
    "import os\n",
    "\n",
    "# Agregar la ruta al proyecto para importar core desde security\n",
    "sys.path.append(\"C:/Desarrollo/strix-system\")"
   ]
  },
  {
   "cell_type": "code",
   "execution_count": 2,
   "metadata": {},
   "outputs": [
    {
     "name": "stdout",
     "output_type": "stream",
     "text": [
      "✅ Nueva Conexión a PostgreSQL establecida.\n",
      "🚨 ENTER: Se abrió una nueva conexión SQLAlchemy\n"
     ]
    },
    {
     "name": "stderr",
     "output_type": "stream",
     "text": [
      "2025-04-12 19:04:33,963 - INFO - ✅ PostgreSQL está operativo.\n",
      "2025-04-12 19:04:34,644 - INFO - ✅ S3 está operativo.\n"
     ]
    },
    {
     "name": "stdout",
     "output_type": "stream",
     "text": [
      "✅ Conexión a S3 establecida con éxito.\n",
      "🔍 Estado de conexiones: {'postgres': 'OK', 's3': 'OK'}\n"
     ]
    }
   ],
   "source": [
    "from security.services.health_check import health_check\n",
    "status = health_check()\n",
    "print(f\"🔍 Estado de conexiones: {status}\")"
   ]
  },
  {
   "cell_type": "code",
   "execution_count": 4,
   "metadata": {},
   "outputs": [],
   "source": [
    "from security.data_access.user_repository import UserRepository\n",
    "from security.utils.password_utils import hash_password, verify_password\n",
    "from sqlalchemy.exc import SQLAlchemyError\n",
    "\n",
    "def test_create_user():\n",
    "    repo = UserRepository()\n",
    "    try:\n",
    "        print(\"🧪 Creando usuario de prueba...\")\n",
    "        password = \"supersegura12345\"\n",
    "        hashed = hash_password(password)\n",
    "        user = repo.create_user(\n",
    "            username=\"testuser45\",\n",
    "            email=\"testuser5@example.com\",\n",
    "            full_name=\"Usuario de Prueba\",\n",
    "            password=hashed\n",
    "        )\n",
    "        assert user[\"id\"] is not None\n",
    "        print(\"✅ Usuario creado correctamente.\")\n",
    "        return user, hashed\n",
    "    except SQLAlchemyError as e:\n",
    "        print(f\"❌ Error al crear usuario: {e}\")\n",
    "        return None, None\n",
    "\n",
    "def test_get_user_by_username(username):\n",
    "    repo = UserRepository()\n",
    "    print(f\"🔍 Buscando usuario por username: {username}...\")\n",
    "    user = repo.get_user_by_username(username)\n",
    "    if user:\n",
    "        print(f\"✅ Usuario encontrado: {user['username']}\")\n",
    "    else:\n",
    "        print(\"❌ Usuario no encontrado.\")\n",
    "    return user\n",
    "\n",
    "def test_get_all_users():\n",
    "    repo = UserRepository()\n",
    "    print(\"📋 Listando todos los usuarios...\")\n",
    "    users = repo.get_all_users()\n",
    "    print(f\"👥 Total de usuarios: {len(users)}\")\n",
    "    return users\n",
    "\n",
    "def test_deactivate_user(user_id):\n",
    "    repo = UserRepository()\n",
    "    print(f\"🛑 Desactivando usuario con ID {user_id}...\")\n",
    "    user = repo.deactivate_user(user_id)\n",
    "    if user and not user[\"is_active\"]:\n",
    "        print(\"✅ Usuario desactivado.\")\n",
    "    else:\n",
    "        print(\"❌ Falló la desactivación del usuario.\")\n",
    "\n",
    "def test_password_verification(password,hashed_password):\n",
    "    print(\"🔐 Verificando contraseña...\")\n",
    "    if verify_password(password, hashed_password):\n",
    "        print(\"✅ Contraseña verificada correctamente.\")\n",
    "    else:\n",
    "        print(\"❌ Verificación de contraseña fallida.\")\n",
    "\n",
    "\n"
   ]
  },
  {
   "cell_type": "code",
   "execution_count": 5,
   "metadata": {},
   "outputs": [
    {
     "name": "stdout",
     "output_type": "stream",
     "text": [
      "✅ Conexión a PostgreSQL establecida.\n",
      "🧪 Creando usuario de prueba...\n",
      "✅ Usuario creado correctamente.\n"
     ]
    }
   ],
   "source": [
    "created_user, hashed = test_create_user()\n"
   ]
  },
  {
   "cell_type": "code",
   "execution_count": 8,
   "metadata": {},
   "outputs": [
    {
     "name": "stdout",
     "output_type": "stream",
     "text": [
      "🔐 Verificando contraseña...\n",
      "❌ Verificación de contraseña fallida.\n"
     ]
    }
   ],
   "source": [
    "password = \"supersegura1234\"\n",
    "\n",
    "test_password_verification(password,hashed)\n"
   ]
  },
  {
   "cell_type": "code",
   "execution_count": 9,
   "metadata": {},
   "outputs": [
    {
     "data": {
      "text/plain": [
       "({'id': 59,\n",
       "  'username': 'testuser45',\n",
       "  'email': 'testuser5@example.com',\n",
       "  'full_name': 'Usuario de Prueba',\n",
       "  'is_active': True,\n",
       "  'created_at': '2025-04-10T01:12:57.578553'},\n",
       " '$2b$12$5fF.9gkYvgivW8F.A8d48OuqPlZxv79FPzLPAdAaaiOZuO4YVWtzG')"
      ]
     },
     "execution_count": 9,
     "metadata": {},
     "output_type": "execute_result"
    }
   ],
   "source": [
    "created_user, hashed"
   ]
  },
  {
   "cell_type": "code",
   "execution_count": 10,
   "metadata": {},
   "outputs": [
    {
     "name": "stdout",
     "output_type": "stream",
     "text": [
      "🔐 Verificando contraseña...\n",
      "❌ Verificación de contraseña fallida.\n"
     ]
    }
   ],
   "source": [
    "test_password_verification(password, hashed)\n"
   ]
  },
  {
   "cell_type": "code",
   "execution_count": 11,
   "metadata": {},
   "outputs": [
    {
     "name": "stdout",
     "output_type": "stream",
     "text": [
      "🔍 Buscando usuario por username: testuser45...\n",
      "✅ Usuario encontrado: testuser45\n"
     ]
    },
    {
     "data": {
      "text/plain": [
       "{'id': 59,\n",
       " 'username': 'testuser45',\n",
       " 'email': 'testuser5@example.com',\n",
       " 'full_name': 'Usuario de Prueba',\n",
       " 'is_active': True,\n",
       " 'created_at': '2025-04-10T01:12:57.578553'}"
      ]
     },
     "execution_count": 11,
     "metadata": {},
     "output_type": "execute_result"
    }
   ],
   "source": [
    "test_get_user_by_username(created_user[\"username\"])\n",
    "\n"
   ]
  },
  {
   "cell_type": "code",
   "execution_count": 12,
   "metadata": {},
   "outputs": [
    {
     "name": "stdout",
     "output_type": "stream",
     "text": [
      "📋 Listando todos los usuarios...\n",
      "👥 Total de usuarios: 2\n"
     ]
    },
    {
     "data": {
      "text/plain": [
       "[{'id': 43,\n",
       "  'username': 'adminuser',\n",
       "  'email': 'admin@example.com',\n",
       "  'full_name': 'Admin User',\n",
       "  'is_active': True,\n",
       "  'created_at': '2025-04-09T10:16:12.904968'},\n",
       " {'id': 59,\n",
       "  'username': 'testuser45',\n",
       "  'email': 'testuser5@example.com',\n",
       "  'full_name': 'Usuario de Prueba',\n",
       "  'is_active': True,\n",
       "  'created_at': '2025-04-10T01:12:57.578553'}]"
      ]
     },
     "execution_count": 12,
     "metadata": {},
     "output_type": "execute_result"
    }
   ],
   "source": [
    "test_get_all_users()\n"
   ]
  },
  {
   "cell_type": "code",
   "execution_count": 13,
   "metadata": {},
   "outputs": [
    {
     "name": "stdout",
     "output_type": "stream",
     "text": [
      "🛑 Desactivando usuario con ID 59...\n",
      "✅ Usuario desactivado.\n"
     ]
    }
   ],
   "source": [
    "test_deactivate_user(created_user[\"id\"])"
   ]
  },
  {
   "cell_type": "code",
   "execution_count": 3,
   "metadata": {},
   "outputs": [
    {
     "name": "stdout",
     "output_type": "stream",
     "text": [
      "✅ Conexión a PostgreSQL establecida.\n",
      "✅ Login exitoso: {'id': 11, 'username': 'testuser4', 'email': 'testuser4@example.com', 'full_name': 'Usuario de Prueba', 'is_active': False, 'created_at': '2025-04-08T18:44:33.624632'}\n"
     ]
    }
   ],
   "source": [
    "repo = UserRepository()\n",
    "user = repo.validate_user_credentials(\"testuser4\", \"supersegura1234\")\n",
    "if user:\n",
    "    print(\"✅ Login exitoso:\", user)\n",
    "else:\n",
    "    print(\"❌ Usuario o contraseña inválidos.\")"
   ]
  },
  {
   "cell_type": "code",
   "execution_count": 1,
   "metadata": {},
   "outputs": [],
   "source": [
    "import sys\n",
    "import os\n",
    "\n",
    "# Agregar la ruta al proyecto para importar core desde security\n",
    "sys.path.append(\"C:/Desarrollo/strix-system\")\n",
    "\n",
    "from security.data_access.user_repository import UserRepository\n",
    "\n",
    "def test_validate_user_credentials():\n",
    "    repo = UserRepository()\n",
    "\n",
    "    # Estos datos deberían existir en tu DB para que este test funcione\n",
    "    username = \"adminuser\"\n",
    "    password = \"adminpass\"  # contraseña real que matchea con el hash en la DB\n",
    "\n",
    "    result = repo.validate_user_credentials(username, password)\n",
    "\n",
    "    assert result is not None, \"Debe retornar datos si las credenciales son válidas\"\n",
    "    assert \"user\" in result, \"Debe retornar los datos del usuario\"\n",
    "    assert \"roles\" in result, \"Debe incluir los roles\"\n",
    "    assert isinstance(result[\"roles\"], list), \"Roles debe ser una lista\"\n",
    "\n",
    "    for role in result[\"roles\"]:\n",
    "        assert \"id\" in role and \"name\" in role\n",
    "        assert \"permissions\" in role\n",
    "        for perm in role[\"permissions\"]:\n",
    "            assert \"id\" in perm and \"name\" in perm\n",
    "\n",
    "\n"
   ]
  },
  {
   "cell_type": "code",
   "execution_count": 3,
   "metadata": {},
   "outputs": [
    {
     "ename": "InvalidRequestError",
     "evalue": "One or more mappers failed to initialize - can't proceed with initialization of other mappers. Triggering mapper: 'Mapper[User(users)]'. Original exception was: When initializing mapper Mapper[User(users)], expression 'Role' failed to locate a name ('Role'). If this is a class name, consider adding this relationship() to the <class 'security.models.user.User'> class after both dependent classes have been defined.",
     "output_type": "error",
     "traceback": [
      "\u001b[1;31m---------------------------------------------------------------------------\u001b[0m",
      "\u001b[1;31mInvalidRequestError\u001b[0m                       Traceback (most recent call last)",
      "Cell \u001b[1;32mIn[3], line 7\u001b[0m\n\u001b[0;32m      4\u001b[0m username \u001b[38;5;241m=\u001b[39m \u001b[38;5;124m\"\u001b[39m\u001b[38;5;124madminuser\u001b[39m\u001b[38;5;124m\"\u001b[39m\n\u001b[0;32m      5\u001b[0m password \u001b[38;5;241m=\u001b[39m \u001b[38;5;124m\"\u001b[39m\u001b[38;5;124madminpass\u001b[39m\u001b[38;5;124m\"\u001b[39m  \u001b[38;5;66;03m# contraseña real que matchea con el hash en la DB\u001b[39;00m\n\u001b[1;32m----> 7\u001b[0m result \u001b[38;5;241m=\u001b[39m \u001b[43mrepo\u001b[49m\u001b[38;5;241;43m.\u001b[39;49m\u001b[43mvalidate_user_credentials\u001b[49m\u001b[43m(\u001b[49m\u001b[43musername\u001b[49m\u001b[43m,\u001b[49m\u001b[43m \u001b[49m\u001b[43mpassword\u001b[49m\u001b[43m)\u001b[49m\n",
      "File \u001b[1;32mC:\\Desarrollo/strix-system\\security\\data_access\\user_repository.py:73\u001b[0m, in \u001b[0;36mUserRepository.validate_user_credentials\u001b[1;34m(self, username, raw_password)\u001b[0m\n\u001b[0;32m     71\u001b[0m session \u001b[38;5;241m=\u001b[39m SessionFactory\u001b[38;5;241m.\u001b[39mget_session()\n\u001b[0;32m     72\u001b[0m \u001b[38;5;28;01mtry\u001b[39;00m:\n\u001b[1;32m---> 73\u001b[0m     user \u001b[38;5;241m=\u001b[39m \u001b[43msession\u001b[49m\u001b[38;5;241;43m.\u001b[39;49m\u001b[43mquery\u001b[49m\u001b[43m(\u001b[49m\u001b[43mUser\u001b[49m\u001b[43m)\u001b[49m\u001b[38;5;241m.\u001b[39mfilter_by(username\u001b[38;5;241m=\u001b[39musername)\u001b[38;5;241m.\u001b[39mfirst()\n\u001b[0;32m     74\u001b[0m     \u001b[38;5;28;01mif\u001b[39;00m user \u001b[38;5;129;01mand\u001b[39;00m verify_password(raw_password, user\u001b[38;5;241m.\u001b[39mpassword):\n\u001b[0;32m     75\u001b[0m         \u001b[38;5;28;01mreturn\u001b[39;00m {\n\u001b[0;32m     76\u001b[0m             \u001b[38;5;124m\"\u001b[39m\u001b[38;5;124muser\u001b[39m\u001b[38;5;124m\"\u001b[39m: user\u001b[38;5;241m.\u001b[39mto_dict(),\n\u001b[0;32m     77\u001b[0m             \u001b[38;5;124m\"\u001b[39m\u001b[38;5;124mroles\u001b[39m\u001b[38;5;124m\"\u001b[39m: [\n\u001b[1;32m   (...)\u001b[0m\n\u001b[0;32m     87\u001b[0m             ]\n\u001b[0;32m     88\u001b[0m         }\n",
      "File \u001b[1;32mc:\\Users\\gsolomita\\AppData\\Local\\Programs\\Python\\Python312\\Lib\\site-packages\\sqlalchemy\\orm\\session.py:2955\u001b[0m, in \u001b[0;36mSession.query\u001b[1;34m(self, *entities, **kwargs)\u001b[0m\n\u001b[0;32m   2935\u001b[0m \u001b[38;5;28;01mdef\u001b[39;00m \u001b[38;5;21mquery\u001b[39m(\n\u001b[0;32m   2936\u001b[0m     \u001b[38;5;28mself\u001b[39m, \u001b[38;5;241m*\u001b[39mentities: _ColumnsClauseArgument[Any], \u001b[38;5;241m*\u001b[39m\u001b[38;5;241m*\u001b[39mkwargs: Any\n\u001b[0;32m   2937\u001b[0m ) \u001b[38;5;241m-\u001b[39m\u001b[38;5;241m>\u001b[39m Query[Any]:\n\u001b[0;32m   2938\u001b[0m \u001b[38;5;250m    \u001b[39m\u001b[38;5;124;03m\"\"\"Return a new :class:`_query.Query` object corresponding to this\u001b[39;00m\n\u001b[0;32m   2939\u001b[0m \u001b[38;5;124;03m    :class:`_orm.Session`.\u001b[39;00m\n\u001b[0;32m   2940\u001b[0m \n\u001b[1;32m   (...)\u001b[0m\n\u001b[0;32m   2952\u001b[0m \n\u001b[0;32m   2953\u001b[0m \u001b[38;5;124;03m    \"\"\"\u001b[39;00m\n\u001b[1;32m-> 2955\u001b[0m     \u001b[38;5;28;01mreturn\u001b[39;00m \u001b[38;5;28;43mself\u001b[39;49m\u001b[38;5;241;43m.\u001b[39;49m\u001b[43m_query_cls\u001b[49m\u001b[43m(\u001b[49m\u001b[43mentities\u001b[49m\u001b[43m,\u001b[49m\u001b[43m \u001b[49m\u001b[38;5;28;43mself\u001b[39;49m\u001b[43m,\u001b[49m\u001b[43m \u001b[49m\u001b[38;5;241;43m*\u001b[39;49m\u001b[38;5;241;43m*\u001b[39;49m\u001b[43mkwargs\u001b[49m\u001b[43m)\u001b[49m\n",
      "File \u001b[1;32mc:\\Users\\gsolomita\\AppData\\Local\\Programs\\Python\\Python312\\Lib\\site-packages\\sqlalchemy\\orm\\query.py:275\u001b[0m, in \u001b[0;36mQuery.__init__\u001b[1;34m(self, entities, session)\u001b[0m\n\u001b[0;32m    269\u001b[0m \u001b[38;5;66;03m# session is usually present.  There's one case in subqueryloader\u001b[39;00m\n\u001b[0;32m    270\u001b[0m \u001b[38;5;66;03m# where it stores a Query without a Session and also there are tests\u001b[39;00m\n\u001b[0;32m    271\u001b[0m \u001b[38;5;66;03m# for the query(Entity).with_session(session) API which is likely in\u001b[39;00m\n\u001b[0;32m    272\u001b[0m \u001b[38;5;66;03m# some old recipes, however these are legacy as select() can now be\u001b[39;00m\n\u001b[0;32m    273\u001b[0m \u001b[38;5;66;03m# used.\u001b[39;00m\n\u001b[0;32m    274\u001b[0m \u001b[38;5;28mself\u001b[39m\u001b[38;5;241m.\u001b[39msession \u001b[38;5;241m=\u001b[39m session  \u001b[38;5;66;03m# type: ignore\u001b[39;00m\n\u001b[1;32m--> 275\u001b[0m \u001b[38;5;28;43mself\u001b[39;49m\u001b[38;5;241;43m.\u001b[39;49m\u001b[43m_set_entities\u001b[49m\u001b[43m(\u001b[49m\u001b[43mentities\u001b[49m\u001b[43m)\u001b[49m\n",
      "File \u001b[1;32mc:\\Users\\gsolomita\\AppData\\Local\\Programs\\Python\\Python312\\Lib\\site-packages\\sqlalchemy\\orm\\query.py:288\u001b[0m, in \u001b[0;36mQuery._set_entities\u001b[1;34m(self, entities)\u001b[0m\n\u001b[0;32m    281\u001b[0m \u001b[38;5;28;01mdef\u001b[39;00m \u001b[38;5;21m_set_entities\u001b[39m(\n\u001b[0;32m    282\u001b[0m     \u001b[38;5;28mself\u001b[39m,\n\u001b[0;32m    283\u001b[0m     entities: Union[\n\u001b[0;32m    284\u001b[0m         _ColumnsClauseArgument[Any], Iterable[_ColumnsClauseArgument[Any]]\n\u001b[0;32m    285\u001b[0m     ],\n\u001b[0;32m    286\u001b[0m ) \u001b[38;5;241m-\u001b[39m\u001b[38;5;241m>\u001b[39m \u001b[38;5;28;01mNone\u001b[39;00m:\n\u001b[0;32m    287\u001b[0m     \u001b[38;5;28mself\u001b[39m\u001b[38;5;241m.\u001b[39m_raw_columns \u001b[38;5;241m=\u001b[39m [\n\u001b[1;32m--> 288\u001b[0m         \u001b[43mcoercions\u001b[49m\u001b[38;5;241;43m.\u001b[39;49m\u001b[43mexpect\u001b[49m\u001b[43m(\u001b[49m\n\u001b[0;32m    289\u001b[0m \u001b[43m            \u001b[49m\u001b[43mroles\u001b[49m\u001b[38;5;241;43m.\u001b[39;49m\u001b[43mColumnsClauseRole\u001b[49m\u001b[43m,\u001b[49m\n\u001b[0;32m    290\u001b[0m \u001b[43m            \u001b[49m\u001b[43ment\u001b[49m\u001b[43m,\u001b[49m\n\u001b[0;32m    291\u001b[0m \u001b[43m            \u001b[49m\u001b[43mapply_propagate_attrs\u001b[49m\u001b[38;5;241;43m=\u001b[39;49m\u001b[38;5;28;43mself\u001b[39;49m\u001b[43m,\u001b[49m\n\u001b[0;32m    292\u001b[0m \u001b[43m            \u001b[49m\u001b[43mpost_inspect\u001b[49m\u001b[38;5;241;43m=\u001b[39;49m\u001b[38;5;28;43;01mTrue\u001b[39;49;00m\u001b[43m,\u001b[49m\n\u001b[0;32m    293\u001b[0m \u001b[43m        \u001b[49m\u001b[43m)\u001b[49m\n\u001b[0;32m    294\u001b[0m         \u001b[38;5;28;01mfor\u001b[39;00m ent \u001b[38;5;129;01min\u001b[39;00m util\u001b[38;5;241m.\u001b[39mto_list(entities)\n\u001b[0;32m    295\u001b[0m     ]\n",
      "File \u001b[1;32mc:\\Users\\gsolomita\\AppData\\Local\\Programs\\Python\\Python312\\Lib\\site-packages\\sqlalchemy\\sql\\coercions.py:388\u001b[0m, in \u001b[0;36mexpect\u001b[1;34m(role, element, apply_propagate_attrs, argname, post_inspect, disable_inspection, **kw)\u001b[0m\n\u001b[0;32m    386\u001b[0m \u001b[38;5;28;01mif\u001b[39;00m insp \u001b[38;5;129;01mis\u001b[39;00m \u001b[38;5;129;01mnot\u001b[39;00m \u001b[38;5;28;01mNone\u001b[39;00m:\n\u001b[0;32m    387\u001b[0m     \u001b[38;5;28;01mif\u001b[39;00m post_inspect:\n\u001b[1;32m--> 388\u001b[0m         \u001b[43minsp\u001b[49m\u001b[38;5;241;43m.\u001b[39;49m\u001b[43m_post_inspect\u001b[49m\n\u001b[0;32m    389\u001b[0m     \u001b[38;5;28;01mtry\u001b[39;00m:\n\u001b[0;32m    390\u001b[0m         resolved \u001b[38;5;241m=\u001b[39m insp\u001b[38;5;241m.\u001b[39m__clause_element__()\n",
      "File \u001b[1;32mc:\\Users\\gsolomita\\AppData\\Local\\Programs\\Python\\Python312\\Lib\\site-packages\\sqlalchemy\\util\\langhelpers.py:1257\u001b[0m, in \u001b[0;36mHasMemoized.memoized_attribute.__get__\u001b[1;34m(self, obj, cls)\u001b[0m\n\u001b[0;32m   1255\u001b[0m \u001b[38;5;28;01mif\u001b[39;00m obj \u001b[38;5;129;01mis\u001b[39;00m \u001b[38;5;28;01mNone\u001b[39;00m:\n\u001b[0;32m   1256\u001b[0m     \u001b[38;5;28;01mreturn\u001b[39;00m \u001b[38;5;28mself\u001b[39m\n\u001b[1;32m-> 1257\u001b[0m obj\u001b[38;5;241m.\u001b[39m\u001b[38;5;18m__dict__\u001b[39m[\u001b[38;5;28mself\u001b[39m\u001b[38;5;241m.\u001b[39m\u001b[38;5;18m__name__\u001b[39m] \u001b[38;5;241m=\u001b[39m result \u001b[38;5;241m=\u001b[39m \u001b[38;5;28;43mself\u001b[39;49m\u001b[38;5;241;43m.\u001b[39;49m\u001b[43mfget\u001b[49m\u001b[43m(\u001b[49m\u001b[43mobj\u001b[49m\u001b[43m)\u001b[49m\n\u001b[0;32m   1258\u001b[0m obj\u001b[38;5;241m.\u001b[39m_memoized_keys \u001b[38;5;241m|\u001b[39m\u001b[38;5;241m=\u001b[39m {\u001b[38;5;28mself\u001b[39m\u001b[38;5;241m.\u001b[39m\u001b[38;5;18m__name__\u001b[39m}\n\u001b[0;32m   1259\u001b[0m \u001b[38;5;28;01mreturn\u001b[39;00m result\n",
      "File \u001b[1;32mc:\\Users\\gsolomita\\AppData\\Local\\Programs\\Python\\Python312\\Lib\\site-packages\\sqlalchemy\\orm\\mapper.py:2724\u001b[0m, in \u001b[0;36mMapper._post_inspect\u001b[1;34m(self)\u001b[0m\n\u001b[0;32m   2713\u001b[0m \u001b[38;5;129m@HasMemoized\u001b[39m\u001b[38;5;241m.\u001b[39mmemoized_attribute\n\u001b[0;32m   2714\u001b[0m \u001b[38;5;28;01mdef\u001b[39;00m \u001b[38;5;21m_post_inspect\u001b[39m(\u001b[38;5;28mself\u001b[39m):\n\u001b[0;32m   2715\u001b[0m \u001b[38;5;250m    \u001b[39m\u001b[38;5;124;03m\"\"\"This hook is invoked by attribute inspection.\u001b[39;00m\n\u001b[0;32m   2716\u001b[0m \n\u001b[0;32m   2717\u001b[0m \u001b[38;5;124;03m    E.g. when Query calls:\u001b[39;00m\n\u001b[1;32m   (...)\u001b[0m\n\u001b[0;32m   2722\u001b[0m \n\u001b[0;32m   2723\u001b[0m \u001b[38;5;124;03m    \"\"\"\u001b[39;00m\n\u001b[1;32m-> 2724\u001b[0m     \u001b[38;5;28;43mself\u001b[39;49m\u001b[38;5;241;43m.\u001b[39;49m\u001b[43m_check_configure\u001b[49m\u001b[43m(\u001b[49m\u001b[43m)\u001b[49m\n",
      "File \u001b[1;32mc:\\Users\\gsolomita\\AppData\\Local\\Programs\\Python\\Python312\\Lib\\site-packages\\sqlalchemy\\orm\\mapper.py:2401\u001b[0m, in \u001b[0;36mMapper._check_configure\u001b[1;34m(self)\u001b[0m\n\u001b[0;32m   2393\u001b[0m \u001b[38;5;129m@util\u001b[39m\u001b[38;5;241m.\u001b[39mlanghelpers\u001b[38;5;241m.\u001b[39mtag_method_for_warnings(\n\u001b[0;32m   2394\u001b[0m     \u001b[38;5;124m\"\u001b[39m\u001b[38;5;124mThis warning originated from the `configure_mappers()` process, \u001b[39m\u001b[38;5;124m\"\u001b[39m\n\u001b[0;32m   2395\u001b[0m     \u001b[38;5;124m\"\u001b[39m\u001b[38;5;124mwhich was invoked automatically in response to a user-initiated \u001b[39m\u001b[38;5;124m\"\u001b[39m\n\u001b[1;32m   (...)\u001b[0m\n\u001b[0;32m   2398\u001b[0m )\n\u001b[0;32m   2399\u001b[0m \u001b[38;5;28;01mdef\u001b[39;00m \u001b[38;5;21m_check_configure\u001b[39m(\u001b[38;5;28mself\u001b[39m) \u001b[38;5;241m-\u001b[39m\u001b[38;5;241m>\u001b[39m \u001b[38;5;28;01mNone\u001b[39;00m:\n\u001b[0;32m   2400\u001b[0m     \u001b[38;5;28;01mif\u001b[39;00m \u001b[38;5;28mself\u001b[39m\u001b[38;5;241m.\u001b[39mregistry\u001b[38;5;241m.\u001b[39m_new_mappers:\n\u001b[1;32m-> 2401\u001b[0m         \u001b[43m_configure_registries\u001b[49m\u001b[43m(\u001b[49m\u001b[43m{\u001b[49m\u001b[38;5;28;43mself\u001b[39;49m\u001b[38;5;241;43m.\u001b[39;49m\u001b[43mregistry\u001b[49m\u001b[43m}\u001b[49m\u001b[43m,\u001b[49m\u001b[43m \u001b[49m\u001b[43mcascade\u001b[49m\u001b[38;5;241;43m=\u001b[39;49m\u001b[38;5;28;43;01mTrue\u001b[39;49;00m\u001b[43m)\u001b[49m\n",
      "File \u001b[1;32mc:\\Users\\gsolomita\\AppData\\Local\\Programs\\Python\\Python312\\Lib\\site-packages\\sqlalchemy\\orm\\mapper.py:4213\u001b[0m, in \u001b[0;36m_configure_registries\u001b[1;34m(registries, cascade)\u001b[0m\n\u001b[0;32m   4207\u001b[0m     Mapper\u001b[38;5;241m.\u001b[39mdispatch\u001b[38;5;241m.\u001b[39m_for_class(Mapper)\u001b[38;5;241m.\u001b[39mbefore_configured()  \u001b[38;5;66;03m# type: ignore # noqa: E501\u001b[39;00m\n\u001b[0;32m   4208\u001b[0m     \u001b[38;5;66;03m# initialize properties on all mappers\u001b[39;00m\n\u001b[0;32m   4209\u001b[0m     \u001b[38;5;66;03m# note that _mapper_registry is unordered, which\u001b[39;00m\n\u001b[0;32m   4210\u001b[0m     \u001b[38;5;66;03m# may randomly conceal/reveal issues related to\u001b[39;00m\n\u001b[0;32m   4211\u001b[0m     \u001b[38;5;66;03m# the order of mapper compilation\u001b[39;00m\n\u001b[1;32m-> 4213\u001b[0m     \u001b[43m_do_configure_registries\u001b[49m\u001b[43m(\u001b[49m\u001b[43mregistries\u001b[49m\u001b[43m,\u001b[49m\u001b[43m \u001b[49m\u001b[43mcascade\u001b[49m\u001b[43m)\u001b[49m\n\u001b[0;32m   4214\u001b[0m \u001b[38;5;28;01mfinally\u001b[39;00m:\n\u001b[0;32m   4215\u001b[0m     _already_compiling \u001b[38;5;241m=\u001b[39m \u001b[38;5;28;01mFalse\u001b[39;00m\n",
      "File \u001b[1;32mc:\\Users\\gsolomita\\AppData\\Local\\Programs\\Python\\Python312\\Lib\\site-packages\\sqlalchemy\\orm\\mapper.py:4250\u001b[0m, in \u001b[0;36m_do_configure_registries\u001b[1;34m(registries, cascade)\u001b[0m\n\u001b[0;32m   4242\u001b[0m     e \u001b[38;5;241m=\u001b[39m sa_exc\u001b[38;5;241m.\u001b[39mInvalidRequestError(\n\u001b[0;32m   4243\u001b[0m         \u001b[38;5;124m\"\u001b[39m\u001b[38;5;124mOne or more mappers failed to initialize - \u001b[39m\u001b[38;5;124m\"\u001b[39m\n\u001b[0;32m   4244\u001b[0m         \u001b[38;5;124m\"\u001b[39m\u001b[38;5;124mcan\u001b[39m\u001b[38;5;124m'\u001b[39m\u001b[38;5;124mt proceed with initialization of other \u001b[39m\u001b[38;5;124m\"\u001b[39m\n\u001b[1;32m   (...)\u001b[0m\n\u001b[0;32m   4247\u001b[0m         \u001b[38;5;241m%\u001b[39m (mapper, mapper\u001b[38;5;241m.\u001b[39m_configure_failed)\n\u001b[0;32m   4248\u001b[0m     )\n\u001b[0;32m   4249\u001b[0m     e\u001b[38;5;241m.\u001b[39m_configure_failed \u001b[38;5;241m=\u001b[39m mapper\u001b[38;5;241m.\u001b[39m_configure_failed  \u001b[38;5;66;03m# type: ignore\u001b[39;00m\n\u001b[1;32m-> 4250\u001b[0m     \u001b[38;5;28;01mraise\u001b[39;00m e\n\u001b[0;32m   4252\u001b[0m \u001b[38;5;28;01mif\u001b[39;00m \u001b[38;5;129;01mnot\u001b[39;00m mapper\u001b[38;5;241m.\u001b[39mconfigured:\n\u001b[0;32m   4253\u001b[0m     \u001b[38;5;28;01mtry\u001b[39;00m:\n",
      "\u001b[1;31mInvalidRequestError\u001b[0m: One or more mappers failed to initialize - can't proceed with initialization of other mappers. Triggering mapper: 'Mapper[User(users)]'. Original exception was: When initializing mapper Mapper[User(users)], expression 'Role' failed to locate a name ('Role'). If this is a class name, consider adding this relationship() to the <class 'security.models.user.User'> class after both dependent classes have been defined."
     ]
    }
   ],
   "source": [
    "repo = UserRepository()\n",
    "\n",
    "# Estos datos deberían existir en tu DB para que este test funcione\n",
    "username = \"adminuser\"\n",
    "password = \"adminpass\"  # contraseña real que matchea con el hash en la DB\n",
    "\n",
    "result = repo.validate_user_credentials(username, password)"
   ]
  },
  {
   "cell_type": "code",
   "execution_count": 2,
   "metadata": {},
   "outputs": [
    {
     "name": "stdout",
     "output_type": "stream",
     "text": [
      "✅ Conexión a PostgreSQL establecida.\n"
     ]
    },
    {
     "ename": "InvalidRequestError",
     "evalue": "When initializing mapper Mapper[User(users)], expression 'Role' failed to locate a name ('Role'). If this is a class name, consider adding this relationship() to the <class 'security.models.user.User'> class after both dependent classes have been defined.",
     "output_type": "error",
     "traceback": [
      "\u001b[1;31m---------------------------------------------------------------------------\u001b[0m",
      "\u001b[1;31mKeyError\u001b[0m                                  Traceback (most recent call last)",
      "File \u001b[1;32mc:\\Users\\gsolomita\\AppData\\Local\\Programs\\Python\\Python312\\Lib\\site-packages\\sqlalchemy\\orm\\clsregistry.py:516\u001b[0m, in \u001b[0;36m_class_resolver._resolve_name\u001b[1;34m(self)\u001b[0m\n\u001b[0;32m    515\u001b[0m \u001b[38;5;28;01mif\u001b[39;00m rval \u001b[38;5;129;01mis\u001b[39;00m \u001b[38;5;28;01mNone\u001b[39;00m:\n\u001b[1;32m--> 516\u001b[0m     rval \u001b[38;5;241m=\u001b[39m \u001b[43md\u001b[49m\u001b[43m[\u001b[49m\u001b[43mtoken\u001b[49m\u001b[43m]\u001b[49m\n\u001b[0;32m    517\u001b[0m \u001b[38;5;28;01melse\u001b[39;00m:\n",
      "File \u001b[1;32mc:\\Users\\gsolomita\\AppData\\Local\\Programs\\Python\\Python312\\Lib\\site-packages\\sqlalchemy\\util\\_collections.py:345\u001b[0m, in \u001b[0;36mPopulateDict.__missing__\u001b[1;34m(self, key)\u001b[0m\n\u001b[0;32m    344\u001b[0m \u001b[38;5;28;01mdef\u001b[39;00m \u001b[38;5;21m__missing__\u001b[39m(\u001b[38;5;28mself\u001b[39m, key: Any) \u001b[38;5;241m-\u001b[39m\u001b[38;5;241m>\u001b[39m Any:\n\u001b[1;32m--> 345\u001b[0m     \u001b[38;5;28mself\u001b[39m[key] \u001b[38;5;241m=\u001b[39m val \u001b[38;5;241m=\u001b[39m \u001b[38;5;28;43mself\u001b[39;49m\u001b[38;5;241;43m.\u001b[39;49m\u001b[43mcreator\u001b[49m\u001b[43m(\u001b[49m\u001b[43mkey\u001b[49m\u001b[43m)\u001b[49m\n\u001b[0;32m    346\u001b[0m     \u001b[38;5;28;01mreturn\u001b[39;00m val\n",
      "File \u001b[1;32mc:\\Users\\gsolomita\\AppData\\Local\\Programs\\Python\\Python312\\Lib\\site-packages\\sqlalchemy\\orm\\clsregistry.py:484\u001b[0m, in \u001b[0;36m_class_resolver._access_cls\u001b[1;34m(self, key)\u001b[0m\n\u001b[0;32m    482\u001b[0m             \u001b[38;5;28;01mreturn\u001b[39;00m value\n\u001b[1;32m--> 484\u001b[0m \u001b[38;5;28;01mreturn\u001b[39;00m \u001b[38;5;28;43mself\u001b[39;49m\u001b[38;5;241;43m.\u001b[39;49m\u001b[43mfallback\u001b[49m\u001b[43m[\u001b[49m\u001b[43mkey\u001b[49m\u001b[43m]\u001b[49m\n",
      "\u001b[1;31mKeyError\u001b[0m: 'Role'",
      "\nThe above exception was the direct cause of the following exception:\n",
      "\u001b[1;31mInvalidRequestError\u001b[0m                       Traceback (most recent call last)",
      "Cell \u001b[1;32mIn[2], line 1\u001b[0m\n\u001b[1;32m----> 1\u001b[0m \u001b[43mtest_validate_user_credentials\u001b[49m\u001b[43m(\u001b[49m\u001b[43m)\u001b[49m\n",
      "Cell \u001b[1;32mIn[1], line 16\u001b[0m, in \u001b[0;36mtest_validate_user_credentials\u001b[1;34m()\u001b[0m\n\u001b[0;32m     13\u001b[0m username \u001b[38;5;241m=\u001b[39m \u001b[38;5;124m\"\u001b[39m\u001b[38;5;124madminuser\u001b[39m\u001b[38;5;124m\"\u001b[39m\n\u001b[0;32m     14\u001b[0m password \u001b[38;5;241m=\u001b[39m \u001b[38;5;124m\"\u001b[39m\u001b[38;5;124madminpass\u001b[39m\u001b[38;5;124m\"\u001b[39m  \u001b[38;5;66;03m# contraseña real que matchea con el hash en la DB\u001b[39;00m\n\u001b[1;32m---> 16\u001b[0m result \u001b[38;5;241m=\u001b[39m \u001b[43mrepo\u001b[49m\u001b[38;5;241;43m.\u001b[39;49m\u001b[43mvalidate_user_credentials\u001b[49m\u001b[43m(\u001b[49m\u001b[43musername\u001b[49m\u001b[43m,\u001b[49m\u001b[43m \u001b[49m\u001b[43mpassword\u001b[49m\u001b[43m)\u001b[49m\n\u001b[0;32m     18\u001b[0m \u001b[38;5;28;01massert\u001b[39;00m result \u001b[38;5;129;01mis\u001b[39;00m \u001b[38;5;129;01mnot\u001b[39;00m \u001b[38;5;28;01mNone\u001b[39;00m, \u001b[38;5;124m\"\u001b[39m\u001b[38;5;124mDebe retornar datos si las credenciales son válidas\u001b[39m\u001b[38;5;124m\"\u001b[39m\n\u001b[0;32m     19\u001b[0m \u001b[38;5;28;01massert\u001b[39;00m \u001b[38;5;124m\"\u001b[39m\u001b[38;5;124muser\u001b[39m\u001b[38;5;124m\"\u001b[39m \u001b[38;5;129;01min\u001b[39;00m result, \u001b[38;5;124m\"\u001b[39m\u001b[38;5;124mDebe retornar los datos del usuario\u001b[39m\u001b[38;5;124m\"\u001b[39m\n",
      "File \u001b[1;32mC:\\Desarrollo/strix-system\\security\\data_access\\user_repository.py:73\u001b[0m, in \u001b[0;36mUserRepository.validate_user_credentials\u001b[1;34m(self, username, raw_password)\u001b[0m\n\u001b[0;32m     71\u001b[0m session \u001b[38;5;241m=\u001b[39m SessionFactory\u001b[38;5;241m.\u001b[39mget_session()\n\u001b[0;32m     72\u001b[0m \u001b[38;5;28;01mtry\u001b[39;00m:\n\u001b[1;32m---> 73\u001b[0m     user \u001b[38;5;241m=\u001b[39m \u001b[43msession\u001b[49m\u001b[38;5;241;43m.\u001b[39;49m\u001b[43mquery\u001b[49m\u001b[43m(\u001b[49m\u001b[43mUser\u001b[49m\u001b[43m)\u001b[49m\u001b[38;5;241m.\u001b[39mfilter_by(username\u001b[38;5;241m=\u001b[39musername)\u001b[38;5;241m.\u001b[39mfirst()\n\u001b[0;32m     74\u001b[0m     \u001b[38;5;28;01mif\u001b[39;00m user \u001b[38;5;129;01mand\u001b[39;00m verify_password(raw_password, user\u001b[38;5;241m.\u001b[39mpassword):\n\u001b[0;32m     75\u001b[0m         \u001b[38;5;28;01mreturn\u001b[39;00m {\n\u001b[0;32m     76\u001b[0m             \u001b[38;5;124m\"\u001b[39m\u001b[38;5;124muser\u001b[39m\u001b[38;5;124m\"\u001b[39m: user\u001b[38;5;241m.\u001b[39mto_dict(),\n\u001b[0;32m     77\u001b[0m             \u001b[38;5;124m\"\u001b[39m\u001b[38;5;124mroles\u001b[39m\u001b[38;5;124m\"\u001b[39m: [\n\u001b[1;32m   (...)\u001b[0m\n\u001b[0;32m     87\u001b[0m             ]\n\u001b[0;32m     88\u001b[0m         }\n",
      "File \u001b[1;32mc:\\Users\\gsolomita\\AppData\\Local\\Programs\\Python\\Python312\\Lib\\site-packages\\sqlalchemy\\orm\\session.py:2955\u001b[0m, in \u001b[0;36mSession.query\u001b[1;34m(self, *entities, **kwargs)\u001b[0m\n\u001b[0;32m   2935\u001b[0m \u001b[38;5;28;01mdef\u001b[39;00m \u001b[38;5;21mquery\u001b[39m(\n\u001b[0;32m   2936\u001b[0m     \u001b[38;5;28mself\u001b[39m, \u001b[38;5;241m*\u001b[39mentities: _ColumnsClauseArgument[Any], \u001b[38;5;241m*\u001b[39m\u001b[38;5;241m*\u001b[39mkwargs: Any\n\u001b[0;32m   2937\u001b[0m ) \u001b[38;5;241m-\u001b[39m\u001b[38;5;241m>\u001b[39m Query[Any]:\n\u001b[0;32m   2938\u001b[0m \u001b[38;5;250m    \u001b[39m\u001b[38;5;124;03m\"\"\"Return a new :class:`_query.Query` object corresponding to this\u001b[39;00m\n\u001b[0;32m   2939\u001b[0m \u001b[38;5;124;03m    :class:`_orm.Session`.\u001b[39;00m\n\u001b[0;32m   2940\u001b[0m \n\u001b[1;32m   (...)\u001b[0m\n\u001b[0;32m   2952\u001b[0m \n\u001b[0;32m   2953\u001b[0m \u001b[38;5;124;03m    \"\"\"\u001b[39;00m\n\u001b[1;32m-> 2955\u001b[0m     \u001b[38;5;28;01mreturn\u001b[39;00m \u001b[38;5;28;43mself\u001b[39;49m\u001b[38;5;241;43m.\u001b[39;49m\u001b[43m_query_cls\u001b[49m\u001b[43m(\u001b[49m\u001b[43mentities\u001b[49m\u001b[43m,\u001b[49m\u001b[43m \u001b[49m\u001b[38;5;28;43mself\u001b[39;49m\u001b[43m,\u001b[49m\u001b[43m \u001b[49m\u001b[38;5;241;43m*\u001b[39;49m\u001b[38;5;241;43m*\u001b[39;49m\u001b[43mkwargs\u001b[49m\u001b[43m)\u001b[49m\n",
      "File \u001b[1;32mc:\\Users\\gsolomita\\AppData\\Local\\Programs\\Python\\Python312\\Lib\\site-packages\\sqlalchemy\\orm\\query.py:275\u001b[0m, in \u001b[0;36mQuery.__init__\u001b[1;34m(self, entities, session)\u001b[0m\n\u001b[0;32m    269\u001b[0m \u001b[38;5;66;03m# session is usually present.  There's one case in subqueryloader\u001b[39;00m\n\u001b[0;32m    270\u001b[0m \u001b[38;5;66;03m# where it stores a Query without a Session and also there are tests\u001b[39;00m\n\u001b[0;32m    271\u001b[0m \u001b[38;5;66;03m# for the query(Entity).with_session(session) API which is likely in\u001b[39;00m\n\u001b[0;32m    272\u001b[0m \u001b[38;5;66;03m# some old recipes, however these are legacy as select() can now be\u001b[39;00m\n\u001b[0;32m    273\u001b[0m \u001b[38;5;66;03m# used.\u001b[39;00m\n\u001b[0;32m    274\u001b[0m \u001b[38;5;28mself\u001b[39m\u001b[38;5;241m.\u001b[39msession \u001b[38;5;241m=\u001b[39m session  \u001b[38;5;66;03m# type: ignore\u001b[39;00m\n\u001b[1;32m--> 275\u001b[0m \u001b[38;5;28;43mself\u001b[39;49m\u001b[38;5;241;43m.\u001b[39;49m\u001b[43m_set_entities\u001b[49m\u001b[43m(\u001b[49m\u001b[43mentities\u001b[49m\u001b[43m)\u001b[49m\n",
      "File \u001b[1;32mc:\\Users\\gsolomita\\AppData\\Local\\Programs\\Python\\Python312\\Lib\\site-packages\\sqlalchemy\\orm\\query.py:288\u001b[0m, in \u001b[0;36mQuery._set_entities\u001b[1;34m(self, entities)\u001b[0m\n\u001b[0;32m    281\u001b[0m \u001b[38;5;28;01mdef\u001b[39;00m \u001b[38;5;21m_set_entities\u001b[39m(\n\u001b[0;32m    282\u001b[0m     \u001b[38;5;28mself\u001b[39m,\n\u001b[0;32m    283\u001b[0m     entities: Union[\n\u001b[0;32m    284\u001b[0m         _ColumnsClauseArgument[Any], Iterable[_ColumnsClauseArgument[Any]]\n\u001b[0;32m    285\u001b[0m     ],\n\u001b[0;32m    286\u001b[0m ) \u001b[38;5;241m-\u001b[39m\u001b[38;5;241m>\u001b[39m \u001b[38;5;28;01mNone\u001b[39;00m:\n\u001b[0;32m    287\u001b[0m     \u001b[38;5;28mself\u001b[39m\u001b[38;5;241m.\u001b[39m_raw_columns \u001b[38;5;241m=\u001b[39m [\n\u001b[1;32m--> 288\u001b[0m         \u001b[43mcoercions\u001b[49m\u001b[38;5;241;43m.\u001b[39;49m\u001b[43mexpect\u001b[49m\u001b[43m(\u001b[49m\n\u001b[0;32m    289\u001b[0m \u001b[43m            \u001b[49m\u001b[43mroles\u001b[49m\u001b[38;5;241;43m.\u001b[39;49m\u001b[43mColumnsClauseRole\u001b[49m\u001b[43m,\u001b[49m\n\u001b[0;32m    290\u001b[0m \u001b[43m            \u001b[49m\u001b[43ment\u001b[49m\u001b[43m,\u001b[49m\n\u001b[0;32m    291\u001b[0m \u001b[43m            \u001b[49m\u001b[43mapply_propagate_attrs\u001b[49m\u001b[38;5;241;43m=\u001b[39;49m\u001b[38;5;28;43mself\u001b[39;49m\u001b[43m,\u001b[49m\n\u001b[0;32m    292\u001b[0m \u001b[43m            \u001b[49m\u001b[43mpost_inspect\u001b[49m\u001b[38;5;241;43m=\u001b[39;49m\u001b[38;5;28;43;01mTrue\u001b[39;49;00m\u001b[43m,\u001b[49m\n\u001b[0;32m    293\u001b[0m \u001b[43m        \u001b[49m\u001b[43m)\u001b[49m\n\u001b[0;32m    294\u001b[0m         \u001b[38;5;28;01mfor\u001b[39;00m ent \u001b[38;5;129;01min\u001b[39;00m util\u001b[38;5;241m.\u001b[39mto_list(entities)\n\u001b[0;32m    295\u001b[0m     ]\n",
      "File \u001b[1;32mc:\\Users\\gsolomita\\AppData\\Local\\Programs\\Python\\Python312\\Lib\\site-packages\\sqlalchemy\\sql\\coercions.py:388\u001b[0m, in \u001b[0;36mexpect\u001b[1;34m(role, element, apply_propagate_attrs, argname, post_inspect, disable_inspection, **kw)\u001b[0m\n\u001b[0;32m    386\u001b[0m \u001b[38;5;28;01mif\u001b[39;00m insp \u001b[38;5;129;01mis\u001b[39;00m \u001b[38;5;129;01mnot\u001b[39;00m \u001b[38;5;28;01mNone\u001b[39;00m:\n\u001b[0;32m    387\u001b[0m     \u001b[38;5;28;01mif\u001b[39;00m post_inspect:\n\u001b[1;32m--> 388\u001b[0m         \u001b[43minsp\u001b[49m\u001b[38;5;241;43m.\u001b[39;49m\u001b[43m_post_inspect\u001b[49m\n\u001b[0;32m    389\u001b[0m     \u001b[38;5;28;01mtry\u001b[39;00m:\n\u001b[0;32m    390\u001b[0m         resolved \u001b[38;5;241m=\u001b[39m insp\u001b[38;5;241m.\u001b[39m__clause_element__()\n",
      "File \u001b[1;32mc:\\Users\\gsolomita\\AppData\\Local\\Programs\\Python\\Python312\\Lib\\site-packages\\sqlalchemy\\util\\langhelpers.py:1257\u001b[0m, in \u001b[0;36mHasMemoized.memoized_attribute.__get__\u001b[1;34m(self, obj, cls)\u001b[0m\n\u001b[0;32m   1255\u001b[0m \u001b[38;5;28;01mif\u001b[39;00m obj \u001b[38;5;129;01mis\u001b[39;00m \u001b[38;5;28;01mNone\u001b[39;00m:\n\u001b[0;32m   1256\u001b[0m     \u001b[38;5;28;01mreturn\u001b[39;00m \u001b[38;5;28mself\u001b[39m\n\u001b[1;32m-> 1257\u001b[0m obj\u001b[38;5;241m.\u001b[39m\u001b[38;5;18m__dict__\u001b[39m[\u001b[38;5;28mself\u001b[39m\u001b[38;5;241m.\u001b[39m\u001b[38;5;18m__name__\u001b[39m] \u001b[38;5;241m=\u001b[39m result \u001b[38;5;241m=\u001b[39m \u001b[38;5;28;43mself\u001b[39;49m\u001b[38;5;241;43m.\u001b[39;49m\u001b[43mfget\u001b[49m\u001b[43m(\u001b[49m\u001b[43mobj\u001b[49m\u001b[43m)\u001b[49m\n\u001b[0;32m   1258\u001b[0m obj\u001b[38;5;241m.\u001b[39m_memoized_keys \u001b[38;5;241m|\u001b[39m\u001b[38;5;241m=\u001b[39m {\u001b[38;5;28mself\u001b[39m\u001b[38;5;241m.\u001b[39m\u001b[38;5;18m__name__\u001b[39m}\n\u001b[0;32m   1259\u001b[0m \u001b[38;5;28;01mreturn\u001b[39;00m result\n",
      "File \u001b[1;32mc:\\Users\\gsolomita\\AppData\\Local\\Programs\\Python\\Python312\\Lib\\site-packages\\sqlalchemy\\orm\\mapper.py:2724\u001b[0m, in \u001b[0;36mMapper._post_inspect\u001b[1;34m(self)\u001b[0m\n\u001b[0;32m   2713\u001b[0m \u001b[38;5;129m@HasMemoized\u001b[39m\u001b[38;5;241m.\u001b[39mmemoized_attribute\n\u001b[0;32m   2714\u001b[0m \u001b[38;5;28;01mdef\u001b[39;00m \u001b[38;5;21m_post_inspect\u001b[39m(\u001b[38;5;28mself\u001b[39m):\n\u001b[0;32m   2715\u001b[0m \u001b[38;5;250m    \u001b[39m\u001b[38;5;124;03m\"\"\"This hook is invoked by attribute inspection.\u001b[39;00m\n\u001b[0;32m   2716\u001b[0m \n\u001b[0;32m   2717\u001b[0m \u001b[38;5;124;03m    E.g. when Query calls:\u001b[39;00m\n\u001b[1;32m   (...)\u001b[0m\n\u001b[0;32m   2722\u001b[0m \n\u001b[0;32m   2723\u001b[0m \u001b[38;5;124;03m    \"\"\"\u001b[39;00m\n\u001b[1;32m-> 2724\u001b[0m     \u001b[38;5;28;43mself\u001b[39;49m\u001b[38;5;241;43m.\u001b[39;49m\u001b[43m_check_configure\u001b[49m\u001b[43m(\u001b[49m\u001b[43m)\u001b[49m\n",
      "File \u001b[1;32mc:\\Users\\gsolomita\\AppData\\Local\\Programs\\Python\\Python312\\Lib\\site-packages\\sqlalchemy\\orm\\mapper.py:2401\u001b[0m, in \u001b[0;36mMapper._check_configure\u001b[1;34m(self)\u001b[0m\n\u001b[0;32m   2393\u001b[0m \u001b[38;5;129m@util\u001b[39m\u001b[38;5;241m.\u001b[39mlanghelpers\u001b[38;5;241m.\u001b[39mtag_method_for_warnings(\n\u001b[0;32m   2394\u001b[0m     \u001b[38;5;124m\"\u001b[39m\u001b[38;5;124mThis warning originated from the `configure_mappers()` process, \u001b[39m\u001b[38;5;124m\"\u001b[39m\n\u001b[0;32m   2395\u001b[0m     \u001b[38;5;124m\"\u001b[39m\u001b[38;5;124mwhich was invoked automatically in response to a user-initiated \u001b[39m\u001b[38;5;124m\"\u001b[39m\n\u001b[1;32m   (...)\u001b[0m\n\u001b[0;32m   2398\u001b[0m )\n\u001b[0;32m   2399\u001b[0m \u001b[38;5;28;01mdef\u001b[39;00m \u001b[38;5;21m_check_configure\u001b[39m(\u001b[38;5;28mself\u001b[39m) \u001b[38;5;241m-\u001b[39m\u001b[38;5;241m>\u001b[39m \u001b[38;5;28;01mNone\u001b[39;00m:\n\u001b[0;32m   2400\u001b[0m     \u001b[38;5;28;01mif\u001b[39;00m \u001b[38;5;28mself\u001b[39m\u001b[38;5;241m.\u001b[39mregistry\u001b[38;5;241m.\u001b[39m_new_mappers:\n\u001b[1;32m-> 2401\u001b[0m         \u001b[43m_configure_registries\u001b[49m\u001b[43m(\u001b[49m\u001b[43m{\u001b[49m\u001b[38;5;28;43mself\u001b[39;49m\u001b[38;5;241;43m.\u001b[39;49m\u001b[43mregistry\u001b[49m\u001b[43m}\u001b[49m\u001b[43m,\u001b[49m\u001b[43m \u001b[49m\u001b[43mcascade\u001b[49m\u001b[38;5;241;43m=\u001b[39;49m\u001b[38;5;28;43;01mTrue\u001b[39;49;00m\u001b[43m)\u001b[49m\n",
      "File \u001b[1;32mc:\\Users\\gsolomita\\AppData\\Local\\Programs\\Python\\Python312\\Lib\\site-packages\\sqlalchemy\\orm\\mapper.py:4213\u001b[0m, in \u001b[0;36m_configure_registries\u001b[1;34m(registries, cascade)\u001b[0m\n\u001b[0;32m   4207\u001b[0m     Mapper\u001b[38;5;241m.\u001b[39mdispatch\u001b[38;5;241m.\u001b[39m_for_class(Mapper)\u001b[38;5;241m.\u001b[39mbefore_configured()  \u001b[38;5;66;03m# type: ignore # noqa: E501\u001b[39;00m\n\u001b[0;32m   4208\u001b[0m     \u001b[38;5;66;03m# initialize properties on all mappers\u001b[39;00m\n\u001b[0;32m   4209\u001b[0m     \u001b[38;5;66;03m# note that _mapper_registry is unordered, which\u001b[39;00m\n\u001b[0;32m   4210\u001b[0m     \u001b[38;5;66;03m# may randomly conceal/reveal issues related to\u001b[39;00m\n\u001b[0;32m   4211\u001b[0m     \u001b[38;5;66;03m# the order of mapper compilation\u001b[39;00m\n\u001b[1;32m-> 4213\u001b[0m     \u001b[43m_do_configure_registries\u001b[49m\u001b[43m(\u001b[49m\u001b[43mregistries\u001b[49m\u001b[43m,\u001b[49m\u001b[43m \u001b[49m\u001b[43mcascade\u001b[49m\u001b[43m)\u001b[49m\n\u001b[0;32m   4214\u001b[0m \u001b[38;5;28;01mfinally\u001b[39;00m:\n\u001b[0;32m   4215\u001b[0m     _already_compiling \u001b[38;5;241m=\u001b[39m \u001b[38;5;28;01mFalse\u001b[39;00m\n",
      "File \u001b[1;32mc:\\Users\\gsolomita\\AppData\\Local\\Programs\\Python\\Python312\\Lib\\site-packages\\sqlalchemy\\orm\\mapper.py:4254\u001b[0m, in \u001b[0;36m_do_configure_registries\u001b[1;34m(registries, cascade)\u001b[0m\n\u001b[0;32m   4252\u001b[0m \u001b[38;5;28;01mif\u001b[39;00m \u001b[38;5;129;01mnot\u001b[39;00m mapper\u001b[38;5;241m.\u001b[39mconfigured:\n\u001b[0;32m   4253\u001b[0m     \u001b[38;5;28;01mtry\u001b[39;00m:\n\u001b[1;32m-> 4254\u001b[0m         \u001b[43mmapper\u001b[49m\u001b[38;5;241;43m.\u001b[39;49m\u001b[43m_post_configure_properties\u001b[49m\u001b[43m(\u001b[49m\u001b[43m)\u001b[49m\n\u001b[0;32m   4255\u001b[0m         mapper\u001b[38;5;241m.\u001b[39m_expire_memoizations()\n\u001b[0;32m   4256\u001b[0m         mapper\u001b[38;5;241m.\u001b[39mdispatch\u001b[38;5;241m.\u001b[39mmapper_configured(mapper, mapper\u001b[38;5;241m.\u001b[39mclass_)\n",
      "File \u001b[1;32mc:\\Users\\gsolomita\\AppData\\Local\\Programs\\Python\\Python312\\Lib\\site-packages\\sqlalchemy\\orm\\mapper.py:2418\u001b[0m, in \u001b[0;36mMapper._post_configure_properties\u001b[1;34m(self)\u001b[0m\n\u001b[0;32m   2415\u001b[0m \u001b[38;5;28mself\u001b[39m\u001b[38;5;241m.\u001b[39m_log(\u001b[38;5;124m\"\u001b[39m\u001b[38;5;124minitialize prop \u001b[39m\u001b[38;5;132;01m%s\u001b[39;00m\u001b[38;5;124m\"\u001b[39m, key)\n\u001b[0;32m   2417\u001b[0m \u001b[38;5;28;01mif\u001b[39;00m prop\u001b[38;5;241m.\u001b[39mparent \u001b[38;5;129;01mis\u001b[39;00m \u001b[38;5;28mself\u001b[39m \u001b[38;5;129;01mand\u001b[39;00m \u001b[38;5;129;01mnot\u001b[39;00m prop\u001b[38;5;241m.\u001b[39m_configure_started:\n\u001b[1;32m-> 2418\u001b[0m     \u001b[43mprop\u001b[49m\u001b[38;5;241;43m.\u001b[39;49m\u001b[43minit\u001b[49m\u001b[43m(\u001b[49m\u001b[43m)\u001b[49m\n\u001b[0;32m   2420\u001b[0m \u001b[38;5;28;01mif\u001b[39;00m prop\u001b[38;5;241m.\u001b[39m_configure_finished:\n\u001b[0;32m   2421\u001b[0m     prop\u001b[38;5;241m.\u001b[39mpost_instrument_class(\u001b[38;5;28mself\u001b[39m)\n",
      "File \u001b[1;32mc:\\Users\\gsolomita\\AppData\\Local\\Programs\\Python\\Python312\\Lib\\site-packages\\sqlalchemy\\orm\\interfaces.py:589\u001b[0m, in \u001b[0;36mMapperProperty.init\u001b[1;34m(self)\u001b[0m\n\u001b[0;32m    582\u001b[0m \u001b[38;5;250m\u001b[39m\u001b[38;5;124;03m\"\"\"Called after all mappers are created to assemble\u001b[39;00m\n\u001b[0;32m    583\u001b[0m \u001b[38;5;124;03mrelationships between mappers and perform other post-mapper-creation\u001b[39;00m\n\u001b[0;32m    584\u001b[0m \u001b[38;5;124;03minitialization steps.\u001b[39;00m\n\u001b[0;32m    585\u001b[0m \n\u001b[0;32m    586\u001b[0m \n\u001b[0;32m    587\u001b[0m \u001b[38;5;124;03m\"\"\"\u001b[39;00m\n\u001b[0;32m    588\u001b[0m \u001b[38;5;28mself\u001b[39m\u001b[38;5;241m.\u001b[39m_configure_started \u001b[38;5;241m=\u001b[39m \u001b[38;5;28;01mTrue\u001b[39;00m\n\u001b[1;32m--> 589\u001b[0m \u001b[38;5;28;43mself\u001b[39;49m\u001b[38;5;241;43m.\u001b[39;49m\u001b[43mdo_init\u001b[49m\u001b[43m(\u001b[49m\u001b[43m)\u001b[49m\n\u001b[0;32m    590\u001b[0m \u001b[38;5;28mself\u001b[39m\u001b[38;5;241m.\u001b[39m_configure_finished \u001b[38;5;241m=\u001b[39m \u001b[38;5;28;01mTrue\u001b[39;00m\n",
      "File \u001b[1;32mc:\\Users\\gsolomita\\AppData\\Local\\Programs\\Python\\Python312\\Lib\\site-packages\\sqlalchemy\\orm\\relationships.py:1656\u001b[0m, in \u001b[0;36mRelationshipProperty.do_init\u001b[1;34m(self)\u001b[0m\n\u001b[0;32m   1654\u001b[0m \u001b[38;5;28mself\u001b[39m\u001b[38;5;241m.\u001b[39m_check_conflicts()\n\u001b[0;32m   1655\u001b[0m \u001b[38;5;28mself\u001b[39m\u001b[38;5;241m.\u001b[39m_process_dependent_arguments()\n\u001b[1;32m-> 1656\u001b[0m \u001b[38;5;28;43mself\u001b[39;49m\u001b[38;5;241;43m.\u001b[39;49m\u001b[43m_setup_entity\u001b[49m\u001b[43m(\u001b[49m\u001b[43m)\u001b[49m\n\u001b[0;32m   1657\u001b[0m \u001b[38;5;28mself\u001b[39m\u001b[38;5;241m.\u001b[39m_setup_registry_dependencies()\n\u001b[0;32m   1658\u001b[0m \u001b[38;5;28mself\u001b[39m\u001b[38;5;241m.\u001b[39m_setup_join_conditions()\n",
      "File \u001b[1;32mc:\\Users\\gsolomita\\AppData\\Local\\Programs\\Python\\Python312\\Lib\\site-packages\\sqlalchemy\\orm\\relationships.py:1868\u001b[0m, in \u001b[0;36mRelationshipProperty._setup_entity\u001b[1;34m(self, _RelationshipProperty__argument)\u001b[0m\n\u001b[0;32m   1861\u001b[0m resolved_argument: _ExternalEntityType[Any]\n\u001b[0;32m   1863\u001b[0m \u001b[38;5;28;01mif\u001b[39;00m \u001b[38;5;28misinstance\u001b[39m(argument, \u001b[38;5;28mstr\u001b[39m):\n\u001b[0;32m   1864\u001b[0m     \u001b[38;5;66;03m# we might want to cleanup clsregistry API to make this\u001b[39;00m\n\u001b[0;32m   1865\u001b[0m     \u001b[38;5;66;03m# more straightforward\u001b[39;00m\n\u001b[0;32m   1866\u001b[0m     resolved_argument \u001b[38;5;241m=\u001b[39m cast(\n\u001b[0;32m   1867\u001b[0m         \u001b[38;5;124m\"\u001b[39m\u001b[38;5;124m_ExternalEntityType[Any]\u001b[39m\u001b[38;5;124m\"\u001b[39m,\n\u001b[1;32m-> 1868\u001b[0m         \u001b[38;5;28;43mself\u001b[39;49m\u001b[38;5;241;43m.\u001b[39;49m\u001b[43m_clsregistry_resolve_name\u001b[49m\u001b[43m(\u001b[49m\u001b[43margument\u001b[49m\u001b[43m)\u001b[49m\u001b[43m(\u001b[49m\u001b[43m)\u001b[49m,\n\u001b[0;32m   1869\u001b[0m     )\n\u001b[0;32m   1870\u001b[0m \u001b[38;5;28;01melif\u001b[39;00m \u001b[38;5;28mcallable\u001b[39m(argument) \u001b[38;5;129;01mand\u001b[39;00m \u001b[38;5;129;01mnot\u001b[39;00m \u001b[38;5;28misinstance\u001b[39m(\n\u001b[0;32m   1871\u001b[0m     argument, (\u001b[38;5;28mtype\u001b[39m, mapperlib\u001b[38;5;241m.\u001b[39mMapper)\n\u001b[0;32m   1872\u001b[0m ):\n\u001b[0;32m   1873\u001b[0m     resolved_argument \u001b[38;5;241m=\u001b[39m argument()\n",
      "File \u001b[1;32mc:\\Users\\gsolomita\\AppData\\Local\\Programs\\Python\\Python312\\Lib\\site-packages\\sqlalchemy\\orm\\clsregistry.py:520\u001b[0m, in \u001b[0;36m_class_resolver._resolve_name\u001b[1;34m(self)\u001b[0m\n\u001b[0;32m    518\u001b[0m             rval \u001b[38;5;241m=\u001b[39m \u001b[38;5;28mgetattr\u001b[39m(rval, token)\n\u001b[0;32m    519\u001b[0m \u001b[38;5;28;01mexcept\u001b[39;00m \u001b[38;5;167;01mKeyError\u001b[39;00m \u001b[38;5;28;01mas\u001b[39;00m err:\n\u001b[1;32m--> 520\u001b[0m     \u001b[38;5;28;43mself\u001b[39;49m\u001b[38;5;241;43m.\u001b[39;49m\u001b[43m_raise_for_name\u001b[49m\u001b[43m(\u001b[49m\u001b[43mname\u001b[49m\u001b[43m,\u001b[49m\u001b[43m \u001b[49m\u001b[43merr\u001b[49m\u001b[43m)\u001b[49m\n\u001b[0;32m    521\u001b[0m \u001b[38;5;28;01mexcept\u001b[39;00m \u001b[38;5;167;01mNameError\u001b[39;00m \u001b[38;5;28;01mas\u001b[39;00m n:\n\u001b[0;32m    522\u001b[0m     \u001b[38;5;28mself\u001b[39m\u001b[38;5;241m.\u001b[39m_raise_for_name(n\u001b[38;5;241m.\u001b[39margs[\u001b[38;5;241m0\u001b[39m], n)\n",
      "File \u001b[1;32mc:\\Users\\gsolomita\\AppData\\Local\\Programs\\Python\\Python312\\Lib\\site-packages\\sqlalchemy\\orm\\clsregistry.py:501\u001b[0m, in \u001b[0;36m_class_resolver._raise_for_name\u001b[1;34m(self, name, err)\u001b[0m\n\u001b[0;32m    491\u001b[0m     \u001b[38;5;28;01mraise\u001b[39;00m exc\u001b[38;5;241m.\u001b[39mInvalidRequestError(\n\u001b[0;32m    492\u001b[0m         \u001b[38;5;124mf\u001b[39m\u001b[38;5;124m\"\u001b[39m\u001b[38;5;124mWhen initializing mapper \u001b[39m\u001b[38;5;132;01m{\u001b[39;00m\u001b[38;5;28mself\u001b[39m\u001b[38;5;241m.\u001b[39mprop\u001b[38;5;241m.\u001b[39mparent\u001b[38;5;132;01m}\u001b[39;00m\u001b[38;5;124m, \u001b[39m\u001b[38;5;124m\"\u001b[39m\n\u001b[0;32m    493\u001b[0m         \u001b[38;5;124mf\u001b[39m\u001b[38;5;124m'\u001b[39m\u001b[38;5;124mexpression \u001b[39m\u001b[38;5;124m\"\u001b[39m\u001b[38;5;124mrelationship(\u001b[39m\u001b[38;5;132;01m{\u001b[39;00m\u001b[38;5;28mself\u001b[39m\u001b[38;5;241m.\u001b[39marg\u001b[38;5;132;01m!r}\u001b[39;00m\u001b[38;5;124m)\u001b[39m\u001b[38;5;124m\"\u001b[39m\u001b[38;5;124m seems to be \u001b[39m\u001b[38;5;124m'\u001b[39m\n\u001b[1;32m   (...)\u001b[0m\n\u001b[0;32m    498\u001b[0m         \u001b[38;5;124mf\u001b[39m\u001b[38;5;124m\"\u001b[39m\u001b[38;5;124m[\u001b[39m\u001b[38;5;124m'\u001b[39m\u001b[38;5;132;01m{\u001b[39;00mclsarg\u001b[38;5;132;01m}\u001b[39;00m\u001b[38;5;124m'\u001b[39m\u001b[38;5;124m]] = relationship()\u001b[39m\u001b[38;5;130;01m\\\"\u001b[39;00m\u001b[38;5;124m\"\u001b[39m\n\u001b[0;32m    499\u001b[0m     ) \u001b[38;5;28;01mfrom\u001b[39;00m \u001b[38;5;21;01merr\u001b[39;00m\n\u001b[0;32m    500\u001b[0m \u001b[38;5;28;01melse\u001b[39;00m:\n\u001b[1;32m--> 501\u001b[0m     \u001b[38;5;28;01mraise\u001b[39;00m exc\u001b[38;5;241m.\u001b[39mInvalidRequestError(\n\u001b[0;32m    502\u001b[0m         \u001b[38;5;124m\"\u001b[39m\u001b[38;5;124mWhen initializing mapper \u001b[39m\u001b[38;5;132;01m%s\u001b[39;00m\u001b[38;5;124m, expression \u001b[39m\u001b[38;5;132;01m%r\u001b[39;00m\u001b[38;5;124m failed to \u001b[39m\u001b[38;5;124m\"\u001b[39m\n\u001b[0;32m    503\u001b[0m         \u001b[38;5;124m\"\u001b[39m\u001b[38;5;124mlocate a name (\u001b[39m\u001b[38;5;132;01m%r\u001b[39;00m\u001b[38;5;124m). If this is a class name, consider \u001b[39m\u001b[38;5;124m\"\u001b[39m\n\u001b[0;32m    504\u001b[0m         \u001b[38;5;124m\"\u001b[39m\u001b[38;5;124madding this relationship() to the \u001b[39m\u001b[38;5;132;01m%r\u001b[39;00m\u001b[38;5;124m class after \u001b[39m\u001b[38;5;124m\"\u001b[39m\n\u001b[0;32m    505\u001b[0m         \u001b[38;5;124m\"\u001b[39m\u001b[38;5;124mboth dependent classes have been defined.\u001b[39m\u001b[38;5;124m\"\u001b[39m\n\u001b[0;32m    506\u001b[0m         \u001b[38;5;241m%\u001b[39m (\u001b[38;5;28mself\u001b[39m\u001b[38;5;241m.\u001b[39mprop\u001b[38;5;241m.\u001b[39mparent, \u001b[38;5;28mself\u001b[39m\u001b[38;5;241m.\u001b[39marg, name, \u001b[38;5;28mself\u001b[39m\u001b[38;5;241m.\u001b[39mcls)\n\u001b[0;32m    507\u001b[0m     ) \u001b[38;5;28;01mfrom\u001b[39;00m \u001b[38;5;21;01merr\u001b[39;00m\n",
      "\u001b[1;31mInvalidRequestError\u001b[0m: When initializing mapper Mapper[User(users)], expression 'Role' failed to locate a name ('Role'). If this is a class name, consider adding this relationship() to the <class 'security.models.user.User'> class after both dependent classes have been defined."
     ]
    }
   ],
   "source": [
    "test_validate_user_credentials()"
   ]
  }
 ],
 "metadata": {
  "kernelspec": {
   "display_name": "Python 3",
   "language": "python",
   "name": "python3"
  },
  "language_info": {
   "codemirror_mode": {
    "name": "ipython",
    "version": 3
   },
   "file_extension": ".py",
   "mimetype": "text/x-python",
   "name": "python",
   "nbconvert_exporter": "python",
   "pygments_lexer": "ipython3",
   "version": "3.12.6"
  }
 },
 "nbformat": 4,
 "nbformat_minor": 2
}
