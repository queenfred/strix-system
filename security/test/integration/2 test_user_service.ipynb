{
 "cells": [
  {
   "cell_type": "code",
   "execution_count": null,
   "metadata": {},
   "outputs": [
    {
     "name": "stdout",
     "output_type": "stream",
     "text": [
      "🔹 sys.path actualizado: ['C:\\\\Desarrollo\\\\pipeline-master', 'c:\\\\Users\\\\gsolomita\\\\AppData\\\\Local\\\\Programs\\\\Python\\\\Python312\\\\python312.zip', 'c:\\\\Users\\\\gsolomita\\\\AppData\\\\Local\\\\Programs\\\\Python\\\\Python312\\\\DLLs', 'c:\\\\Users\\\\gsolomita\\\\AppData\\\\Local\\\\Programs\\\\Python\\\\Python312\\\\Lib', 'c:\\\\Users\\\\gsolomita\\\\AppData\\\\Local\\\\Programs\\\\Python\\\\Python312', '', 'C:\\\\Users\\\\gsolomita\\\\AppData\\\\Roaming\\\\Python\\\\Python312\\\\site-packages', 'C:\\\\Users\\\\gsolomita\\\\AppData\\\\Roaming\\\\Python\\\\Python312\\\\site-packages\\\\win32', 'C:\\\\Users\\\\gsolomita\\\\AppData\\\\Roaming\\\\Python\\\\Python312\\\\site-packages\\\\win32\\\\lib', 'C:\\\\Users\\\\gsolomita\\\\AppData\\\\Roaming\\\\Python\\\\Python312\\\\site-packages\\\\Pythonwin', 'c:\\\\Users\\\\gsolomita\\\\AppData\\\\Local\\\\Programs\\\\Python\\\\Python312\\\\Lib\\\\site-packages']\n"
     ]
    }
   ],
   "source": [
    "import sys\n",
    "import os\n",
    "\n",
    "ROOT_DIR = os.path.abspath(os.path.join(os.getcwd(), \"..\")) \n",
    "ROOT_DIR\n",
    "\n",
    "# Definir la ruta de la raíz del proyecto\n",
    "ROOT_DIR = r\"C:\\Desarrollo\\security\"\n",
    "sys.path.insert(0, ROOT_DIR)  # Agregarla al sys.path\n",
    "\n",
    "# Verificar que se agregó correctamente\n",
    "print(\"🔹 sys.path actualizado:\", sys.path)"
   ]
  },
  {
   "cell_type": "code",
   "execution_count": 2,
   "metadata": {},
   "outputs": [],
   "source": [
    "from services.user_service import UserService\n",
    "\n",
    "def test_register_and_authenticate():\n",
    "    service = UserService()\n",
    "    username = \"juanito\"\n",
    "    email = \"juanito@example.com\"\n",
    "    password = \"claveSegura123\"\n",
    "    full_name = \"Juanito Prueba\"\n",
    "\n",
    "    print(\"🧪 Registrando usuario...\")\n",
    "    user = service.register_user(username, email, password, full_name)\n",
    "    assert user[\"id\"] is not None\n",
    "    print(f\"✅ Usuario registrado con ID {user['id']}\")\n",
    "\n",
    "    print(\"🔐 Autenticando con contraseña válida...\")\n",
    "    authenticated_user = service.authenticate(username, password)\n",
    "    assert authenticated_user is not None\n",
    "    print(\"✅ Autenticación exitosa\")\n",
    "\n",
    "    print(\"🔐 Autenticando con contraseña inválida...\")\n",
    "    invalid_login = service.authenticate(username, \"contraseñaIncorrecta\")\n",
    "    assert invalid_login is None\n",
    "    print(\"✅ Autenticación fallida como se esperaba\")\n",
    "\n",
    "def test_user_queries():\n",
    "    service = UserService()\n",
    "\n",
    "    print(\"🔍 Buscando usuario por username...\")\n",
    "    user = service.get_user(\"juanito\")\n",
    "    assert user is not None\n",
    "\n",
    "    print(f\"✅ Usuario encontrado: {user['username']}\")\n",
    "\n",
    "    print(\"📋 Listando todos los usuarios...\")\n",
    "    users = service.list_users()\n",
    "    assert isinstance(users, list)\n",
    "    print(f\"👥 Total de usuarios: {len(users)}\")\n",
    "\n",
    "def test_deactivate_user():\n",
    "    service = UserService()\n",
    "    user = service.get_user(\"juanito\")\n",
    "    if user:\n",
    "        print(\"🛑 Desactivando usuario...\")\n",
    "        result = service.deactivate(user[\"id\"])\n",
    "        assert result[\"is_active\"] is False\n",
    "        print(\"✅ Usuario desactivado correctamente\")\n",
    "\n"
   ]
  },
  {
   "cell_type": "code",
   "execution_count": 3,
   "metadata": {},
   "outputs": [
    {
     "name": "stdout",
     "output_type": "stream",
     "text": [
      "🧪 Registrando usuario...\n",
      "✅ Conexión a PostgreSQL establecida.\n",
      "✅ Conexión a PostgreSQL establecida.\n",
      "✅ Conexión a PostgreSQL establecida.\n",
      "✅ Conexión a PostgreSQL establecida.\n",
      "✅ Conexión a PostgreSQL establecida.\n",
      "✅ Conexión a PostgreSQL establecida.\n",
      "✅ Conexión a PostgreSQL establecida.\n",
      "✅ Conexión a PostgreSQL establecida.\n",
      "✅ Usuario registrado con ID 12\n",
      "🔐 Autenticando con contraseña válida...\n",
      "✅ Conexión a PostgreSQL establecida.\n",
      "✅ Conexión a PostgreSQL establecida.\n",
      "✅ Conexión a PostgreSQL establecida.\n",
      "✅ Conexión a PostgreSQL establecida.\n",
      "✅ Conexión a PostgreSQL establecida.\n",
      "✅ Conexión a PostgreSQL establecida.\n",
      "✅ Conexión a PostgreSQL establecida.\n",
      "✅ Autenticación exitosa\n",
      "🔐 Autenticando con contraseña inválida...\n",
      "✅ Conexión a PostgreSQL establecida.\n",
      "✅ Conexión a PostgreSQL establecida.\n",
      "✅ Conexión a PostgreSQL establecida.\n",
      "✅ Conexión a PostgreSQL establecida.\n",
      "✅ Conexión a PostgreSQL establecida.\n",
      "✅ Conexión a PostgreSQL establecida.\n",
      "✅ Conexión a PostgreSQL establecida.\n",
      "✅ Autenticación fallida como se esperaba\n",
      "🔍 Buscando usuario por username...\n",
      "✅ Conexión a PostgreSQL establecida.\n",
      "✅ Conexión a PostgreSQL establecida.\n",
      "✅ Conexión a PostgreSQL establecida.\n",
      "✅ Conexión a PostgreSQL establecida.\n",
      "✅ Conexión a PostgreSQL establecida.\n",
      "✅ Conexión a PostgreSQL establecida.\n",
      "✅ Conexión a PostgreSQL establecida.\n",
      "✅ Usuario encontrado: juanito\n",
      "📋 Listando todos los usuarios...\n",
      "✅ Conexión a PostgreSQL establecida.\n",
      "✅ Conexión a PostgreSQL establecida.\n",
      "✅ Conexión a PostgreSQL establecida.\n",
      "✅ Conexión a PostgreSQL establecida.\n",
      "✅ Conexión a PostgreSQL establecida.\n",
      "✅ Conexión a PostgreSQL establecida.\n",
      "✅ Conexión a PostgreSQL establecida.\n",
      "👥 Total de usuarios: 2\n",
      "✅ Conexión a PostgreSQL establecida.\n",
      "✅ Conexión a PostgreSQL establecida.\n",
      "✅ Conexión a PostgreSQL establecida.\n",
      "✅ Conexión a PostgreSQL establecida.\n",
      "✅ Conexión a PostgreSQL establecida.\n",
      "✅ Conexión a PostgreSQL establecida.\n",
      "✅ Conexión a PostgreSQL establecida.\n",
      "🛑 Desactivando usuario...\n",
      "✅ Conexión a PostgreSQL establecida.\n",
      "✅ Conexión a PostgreSQL establecida.\n",
      "✅ Conexión a PostgreSQL establecida.\n",
      "✅ Conexión a PostgreSQL establecida.\n",
      "✅ Conexión a PostgreSQL establecida.\n",
      "✅ Conexión a PostgreSQL establecida.\n",
      "✅ Conexión a PostgreSQL establecida.\n",
      "✅ Usuario desactivado correctamente\n"
     ]
    }
   ],
   "source": [
    "\n",
    "test_register_and_authenticate()\n",
    "test_user_queries()\n",
    "test_deactivate_user()\n"
   ]
  }
 ],
 "metadata": {
  "kernelspec": {
   "display_name": "Python 3",
   "language": "python",
   "name": "python3"
  },
  "language_info": {
   "codemirror_mode": {
    "name": "ipython",
    "version": 3
   },
   "file_extension": ".py",
   "mimetype": "text/x-python",
   "name": "python",
   "nbconvert_exporter": "python",
   "pygments_lexer": "ipython3",
   "version": "3.12.6"
  }
 },
 "nbformat": 4,
 "nbformat_minor": 2
}
