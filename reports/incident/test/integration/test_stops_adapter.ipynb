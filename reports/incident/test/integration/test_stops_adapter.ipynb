{
 "cells": [
  {
   "cell_type": "code",
   "execution_count": 5,
   "id": "befba8da",
   "metadata": {},
   "outputs": [
    {
     "name": "stdout",
     "output_type": "stream",
     "text": [
      "📁 Proyecto configurado en: c:\\Desarrollo\\strix-system\n"
     ]
    }
   ],
   "source": [
    "\n",
    "# Configurar sys.path para importar desde el root del proyecto\n",
    "import sys\n",
    "import os\n",
    "project_root = os.path.abspath(os.path.join(os.getcwd(), \"..\",\"..\", \"..\", \"..\"))\n",
    "if project_root not in sys.path:\n",
    "    sys.path.append(project_root)\n",
    "\n",
    "print(\"📁 Proyecto configurado en:\", project_root)\n"
   ]
  },
  {
   "cell_type": "code",
   "execution_count": 6,
   "id": "b91c4324",
   "metadata": {},
   "outputs": [
    {
     "name": "stderr",
     "output_type": "stream",
     "text": [
      "c:\\Users\\gsolomita\\AppData\\Local\\Programs\\Python\\Python312\\Lib\\site-packages\\movingpandas\\__init__.py:41: UserWarning: Missing optional dependencies. To use the trajectory smoother classes please install Stone Soup (see https://stonesoup.readthedocs.io/en/latest/#installation).\n",
      "  warnings.warn(e.msg, UserWarning)\n"
     ]
    }
   ],
   "source": [
    "\n",
    "# Imports necesarios\n",
    "import pandas as pd\n",
    "from reports.incident.adapters.stops_adapter import StopsAdapter\n"
   ]
  },
  {
   "cell_type": "code",
   "execution_count": 7,
   "id": "d0bc1a0c",
   "metadata": {},
   "outputs": [
    {
     "name": "stdout",
     "output_type": "stream",
     "text": [
      "   domain  latitude  longitude           timestamp  speed\n",
      "0  ABC123  -34.6037   -58.3816 2024-04-01 10:00:00      0\n",
      "1  ABC123  -34.6038   -58.3817 2024-04-01 10:02:00      0\n",
      "2  ABC123  -34.6039   -58.3818 2024-04-01 10:04:00      0\n",
      "3  ABC123  -34.6040   -58.3819 2024-04-01 10:06:00      0\n",
      "4  ABC123  -34.6041   -58.3820 2024-04-01 10:08:00      0\n"
     ]
    }
   ],
   "source": [
    "\n",
    "# Simular DataFrame de recorrido con columnas esperadas\n",
    "data = {\n",
    "    \"domain\": [\"ABC123\"] * 5,\n",
    "    \"latitude\": [-34.6037, -34.6038, -34.6039, -34.6040, -34.6041],\n",
    "    \"longitude\": [-58.3816, -58.3817, -58.3818, -58.3819, -58.3820],\n",
    "    \"timestamp\": pd.date_range(\"2024-04-01 10:00:00\", periods=5, freq=\"2min\"),\n",
    "    \"speed\": [0, 0, 0, 0, 0]\n",
    "}\n",
    "df = pd.DataFrame(data)\n",
    "print(df)\n"
   ]
  },
  {
   "cell_type": "code",
   "execution_count": 8,
   "id": "8e7fecdf",
   "metadata": {},
   "outputs": [
    {
     "name": "stdout",
     "output_type": "stream",
     "text": [
      "📍 Resultado:\n",
      "- Duración: 480.0 segundos\n",
      "- Latitud: -34.603899999999996\n",
      "- Longitud: -58.3818\n"
     ]
    }
   ],
   "source": [
    "\n",
    "# Referencia del punto del siniestro\n",
    "reference_point = (-34.6038, -58.3817)\n",
    "\n",
    "# Detectar parada\n",
    "duracion, lat, lon = StopsAdapter.detect_stop(df, reference_point)\n",
    "print(f\"📍 Resultado:\")\n",
    "print(f\"- Duración: {duracion} segundos\")\n",
    "print(f\"- Latitud: {lat}\")\n",
    "print(f\"- Longitud: {lon}\")\n"
   ]
  }
 ],
 "metadata": {
  "kernelspec": {
   "display_name": "Python 3",
   "language": "python",
   "name": "python3"
  },
  "language_info": {
   "codemirror_mode": {
    "name": "ipython",
    "version": 3
   },
   "file_extension": ".py",
   "mimetype": "text/x-python",
   "name": "python",
   "nbconvert_exporter": "python",
   "pygments_lexer": "ipython3",
   "version": "3.12.6"
  }
 },
 "nbformat": 4,
 "nbformat_minor": 5
}
