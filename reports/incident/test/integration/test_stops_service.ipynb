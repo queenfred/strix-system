{
 "cells": [
  {
   "cell_type": "code",
   "execution_count": 5,
   "id": "ccb448c7",
   "metadata": {},
   "outputs": [
    {
     "name": "stdout",
     "output_type": "stream",
     "text": [
      "📁 Proyecto configurado en: c:\\Desarrollo\\strix-system\n"
     ]
    }
   ],
   "source": [
    "\n",
    "# Configurar sys.path para importar desde el root del proyecto\n",
    "import sys\n",
    "import os\n",
    "project_root = os.path.abspath(os.path.join(os.getcwd(), \"..\", \"..\", \"..\", \"..\"))\n",
    "if project_root not in sys.path:\n",
    "    sys.path.append(project_root)\n",
    "\n",
    "print(\"📁 Proyecto configurado en:\", project_root)\n"
   ]
  },
  {
   "cell_type": "code",
   "execution_count": 6,
   "id": "da0675ec",
   "metadata": {},
   "outputs": [
    {
     "name": "stderr",
     "output_type": "stream",
     "text": [
      "c:\\Users\\gsolomita\\AppData\\Local\\Programs\\Python\\Python312\\Lib\\site-packages\\movingpandas\\__init__.py:41: UserWarning: Missing optional dependencies. To use the trajectory smoother classes please install Stone Soup (see https://stonesoup.readthedocs.io/en/latest/#installation).\n",
      "  warnings.warn(e.msg, UserWarning)\n"
     ]
    }
   ],
   "source": [
    "\n",
    "# Imports necesarios\n",
    "import pandas as pd\n",
    "from reports.incident.services.stops_service import StopsService\n"
   ]
  },
  {
   "cell_type": "code",
   "execution_count": 7,
   "id": "6894f96c",
   "metadata": {},
   "outputs": [
    {
     "data": {
      "text/html": [
       "<div>\n",
       "<style scoped>\n",
       "    .dataframe tbody tr th:only-of-type {\n",
       "        vertical-align: middle;\n",
       "    }\n",
       "\n",
       "    .dataframe tbody tr th {\n",
       "        vertical-align: top;\n",
       "    }\n",
       "\n",
       "    .dataframe thead th {\n",
       "        text-align: right;\n",
       "    }\n",
       "</style>\n",
       "<table border=\"1\" class=\"dataframe\">\n",
       "  <thead>\n",
       "    <tr style=\"text-align: right;\">\n",
       "      <th></th>\n",
       "      <th>domain</th>\n",
       "      <th>latitude</th>\n",
       "      <th>longitude</th>\n",
       "      <th>timestamp</th>\n",
       "      <th>speed</th>\n",
       "    </tr>\n",
       "  </thead>\n",
       "  <tbody>\n",
       "    <tr>\n",
       "      <th>0</th>\n",
       "      <td>ABC123</td>\n",
       "      <td>-34.6037</td>\n",
       "      <td>-58.3816</td>\n",
       "      <td>2024-04-01 10:00:00</td>\n",
       "      <td>0</td>\n",
       "    </tr>\n",
       "    <tr>\n",
       "      <th>1</th>\n",
       "      <td>ABC123</td>\n",
       "      <td>-34.6038</td>\n",
       "      <td>-58.3817</td>\n",
       "      <td>2024-04-01 10:02:00</td>\n",
       "      <td>0</td>\n",
       "    </tr>\n",
       "    <tr>\n",
       "      <th>2</th>\n",
       "      <td>ABC123</td>\n",
       "      <td>-34.6039</td>\n",
       "      <td>-58.3818</td>\n",
       "      <td>2024-04-01 10:04:00</td>\n",
       "      <td>0</td>\n",
       "    </tr>\n",
       "    <tr>\n",
       "      <th>3</th>\n",
       "      <td>ABC123</td>\n",
       "      <td>-34.6040</td>\n",
       "      <td>-58.3819</td>\n",
       "      <td>2024-04-01 10:06:00</td>\n",
       "      <td>0</td>\n",
       "    </tr>\n",
       "    <tr>\n",
       "      <th>4</th>\n",
       "      <td>ABC123</td>\n",
       "      <td>-34.6041</td>\n",
       "      <td>-58.3820</td>\n",
       "      <td>2024-04-01 10:08:00</td>\n",
       "      <td>0</td>\n",
       "    </tr>\n",
       "  </tbody>\n",
       "</table>\n",
       "</div>"
      ],
      "text/plain": [
       "   domain  latitude  longitude           timestamp  speed\n",
       "0  ABC123  -34.6037   -58.3816 2024-04-01 10:00:00      0\n",
       "1  ABC123  -34.6038   -58.3817 2024-04-01 10:02:00      0\n",
       "2  ABC123  -34.6039   -58.3818 2024-04-01 10:04:00      0\n",
       "3  ABC123  -34.6040   -58.3819 2024-04-01 10:06:00      0\n",
       "4  ABC123  -34.6041   -58.3820 2024-04-01 10:08:00      0"
      ]
     },
     "execution_count": 7,
     "metadata": {},
     "output_type": "execute_result"
    }
   ],
   "source": [
    "\n",
    "# Simular DataFrame de recorrido con columnas esperadas\n",
    "data = {\n",
    "    \"domain\": [\"ABC123\"] * 5,\n",
    "    \"latitude\": [-34.6037, -34.6038, -34.6039, -34.6040, -34.6041],\n",
    "    \"longitude\": [-58.3816, -58.3817, -58.3818, -58.3819, -58.3820],\n",
    "    \"timestamp\": pd.date_range(\"2024-04-01 10:00:00\", periods=5, freq=\"2min\"),\n",
    "    \"speed\": [0, 0, 0, 0, 0]\n",
    "}\n",
    "df = pd.DataFrame(data)\n",
    "\n",
    "# Simular fila con incidente\n",
    "row = pd.Series({\n",
    "    \"domain\": \"ABC123\",\n",
    "    \"latitud\": -34.6038,\n",
    "    \"longitud\": -58.3817\n",
    "})\n",
    "\n",
    "df\n"
   ]
  },
  {
   "cell_type": "code",
   "execution_count": 8,
   "id": "037de2ab",
   "metadata": {},
   "outputs": [
    {
     "name": "stdout",
     "output_type": "stream",
     "text": [
      "📍 Resultado:\n",
      "parada_zona             480.0000\n",
      "latitud_parada_zona     -34.6039\n",
      "longitud_parada_zona    -58.3818\n",
      "dtype: float64\n"
     ]
    }
   ],
   "source": [
    "\n",
    "# Ejecutar cálculo de parada desde el servicio\n",
    "resultado = StopsService.compute_stop(row, df)\n",
    "print(\"📍 Resultado:\")\n",
    "print(resultado)\n"
   ]
  }
 ],
 "metadata": {
  "kernelspec": {
   "display_name": "Python 3",
   "language": "python",
   "name": "python3"
  },
  "language_info": {
   "codemirror_mode": {
    "name": "ipython",
    "version": 3
   },
   "file_extension": ".py",
   "mimetype": "text/x-python",
   "name": "python",
   "nbconvert_exporter": "python",
   "pygments_lexer": "ipython3",
   "version": "3.12.6"
  }
 },
 "nbformat": 4,
 "nbformat_minor": 5
}
