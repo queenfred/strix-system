{
 "cells": [
  {
   "cell_type": "code",
   "execution_count": 1,
   "id": "5499f71a",
   "metadata": {},
   "outputs": [
    {
     "name": "stdout",
     "output_type": "stream",
     "text": [
      "✅ Conexión a S3 establecida con éxito.\n",
      "✅ Nueva Conexión a PostgreSQL establecida.\n",
      "🚨 ENTER: Se abrió una nueva conexión SQLAlchemy\n",
      "🚨 ENTER: Se abrió una nueva conexión SQLAlchemy\n",
      "✅ 2 registros recuperados para el reporte.\n",
      "✅ Informe generado exitosamente en c:\\Desarrollo\\strix-system\\reports\\incident\\test\\integration\\output\\informe_verificacion_siniestros.pdf\n",
      "✅ PDF generado: c:\\Desarrollo\\strix-system\\reports\\incident\\test\\integration\\output\\informe_verificacion_siniestros.pdf\n"
     ]
    }
   ],
   "source": [
    "# 📓 test_generate_report_zip.ipynb\n",
    "\n",
    "# Paso 1 - Configuración inicial\n",
    "import os\n",
    "import sys\n",
    "import pandas as pd\n",
    "import zipfile\n",
    "\n",
    "# Ajustar el sys.path para que encuentre tus módulos\n",
    "sys.path.append(r'C:\\Desarrollo\\strix-system')\n",
    "\n",
    "# Importar UnitOfWork, IncidentService y PDFReportAdapter\n",
    "from core.infraestructure.uow.sqlalchemy_uow import SQLAlchemyUnitOfWork\n",
    "from reports.incident.services.incident_service import IncidentService\n",
    "from reports.incident.adapters import PDFReportAdapter\n",
    "\n",
    "# Crear UnitOfWork e IncidentService\n",
    "uow = SQLAlchemyUnitOfWork()\n",
    "incident_service = IncidentService(uow)\n",
    "\n",
    "# Paso 2 - Recuperar incidentes\n",
    "with uow:\n",
    "    rows = incident_service.get_all_incidents()\n",
    "    df = pd.DataFrame(rows)\n",
    "\n",
    "# Validar si hay datos\n",
    "if df.empty:\n",
    "    print(\"⚠️ No hay registros verificados para generar informe.\")\n",
    "else:\n",
    "    print(f\"✅ {len(df)} registros recuperados para el reporte.\")\n",
    "\n",
    "    # Paso 3 - Crear el PDF\n",
    "    output_dir = os.path.join(os.getcwd(), \"output\")\n",
    "    os.makedirs(output_dir, exist_ok=True)\n",
    "    pdf_path = os.path.join(output_dir, \"informe_verificacion_siniestros.pdf\")\n",
    "\n",
    "    PDFReportAdapter.build(df.copy(), pdf_path)\n",
    "    print(f\"✅ PDF generado: {pdf_path}\")\n",
    "\n",
    "    \n",
    "\n"
   ]
  },
  {
   "cell_type": "code",
   "execution_count": 2,
   "id": "1380ee61",
   "metadata": {},
   "outputs": [
    {
     "name": "stdout",
     "output_type": "stream",
     "text": [
      "✅ Excel generado en: c:\\Desarrollo\\strix-system\\reports\\incident\\test\\integration\\output\\informe_verificacion_siniestros.xlsx\n"
     ]
    }
   ],
   "source": [
    "from reports.incident.adapters.excel_report_adapter import ExcelReportAdapter\n",
    "\n",
    "excel_path = ExcelReportAdapter.build(df.copy(), df.copy(), os.path.join(output_dir, \"informe_verificacion_siniestros\"))\n"
   ]
  },
  {
   "cell_type": "code",
   "execution_count": 3,
   "id": "792bf6d8",
   "metadata": {},
   "outputs": [
    {
     "name": "stdout",
     "output_type": "stream",
     "text": [
      "✅ Conexión a S3 establecida con éxito.\n",
      "⏱️ 2024-12-28 00:00:00\n",
      "🚨 ENTER: Se abrió una nueva conexión SQLAlchemy\n",
      "desde=2024-12-28 00:00:00  , hasta= 2024-12-28 23:59:59\n",
      "✅ Mapa generado: mapa_siniestro_AG459TC_2024_12_28.html\n",
      "⏱️ 2024-02-12 00:00:00\n",
      "🚨 ENTER: Se abrió una nueva conexión SQLAlchemy\n",
      "desde=2024-02-12 00:00:00  , hasta= 2024-02-12 23:59:59\n",
      "✅ Mapa generado: mapa_siniestro_AA015FC_2024_02_12.html\n",
      "🗺️ Mapas generados: ['c:\\\\Desarrollo\\\\strix-system\\\\reports\\\\incident\\\\test\\\\integration\\\\output\\\\mapa_siniestro_AG459TC_2024_12_28.html', 'c:\\\\Desarrollo\\\\strix-system\\\\reports\\\\incident\\\\test\\\\integration\\\\output\\\\mapa_siniestro_AA015FC_2024_02_12.html']\n"
     ]
    }
   ],
   "source": [
    "from reports.incident.adapters.map_adapter import MapAdapter\n",
    "from core.services.event_service import EventService\n",
    "\n",
    "event_service = EventService(uow)\n",
    "incident_service = IncidentService(uow)\n",
    "\n",
    "\n",
    "#from core.adapters.map_adapter import MapAdapter\n",
    "from datetime import timedelta\n",
    "\n",
    "mapas_generados = []\n",
    "\n",
    "\n",
    "for idx in df.index:\n",
    "    try:\n",
    "        id_domain = int(df.loc[idx, \"id_domain\"])\n",
    "        fecha = df.loc[idx, \"fecha_ocurrencia\"]\n",
    "\n",
    "        start_date = fecha.normalize()\n",
    "        end_date = start_date + timedelta(days=1) - timedelta(seconds=1)\n",
    "\n",
    "        print(\"⏱️\", fecha)\n",
    "        recorrido = event_service.get_events_by_domain_and_date(id_domain, start_date, end_date)\n",
    "        \n",
    "\n",
    "        if recorrido is not None and isinstance(recorrido, list) and len(recorrido) > 0:\n",
    "            recorrido_df = pd.DataFrame(recorrido)\n",
    "            recorrido_df[\"domain\"] = df.loc[idx, \"domain\"]  \n",
    "            mapa = MapAdapter.build_map(idx, df, recorrido_df,output_dir)\n",
    "            if mapa:\n",
    "                mapas_generados.append(os.path.join(output_dir, mapa))\n",
    "        else:\n",
    "            print(f\"⚠️ No hay recorrido para ID {id_domain}\")\n",
    "    except Exception as e:\n",
    "        print(f\"⚠️ Error generando mapa del siniestro ID {idx}: {e}\")\n",
    "\n",
    "print(\"🗺️ Mapas generados:\", mapas_generados)\n",
    "\n",
    "\n"
   ]
  }
 ],
 "metadata": {
  "kernelspec": {
   "display_name": "Python 3",
   "language": "python",
   "name": "python3"
  },
  "language_info": {
   "codemirror_mode": {
    "name": "ipython",
    "version": 3
   },
   "file_extension": ".py",
   "mimetype": "text/x-python",
   "name": "python",
   "nbconvert_exporter": "python",
   "pygments_lexer": "ipython3",
   "version": "3.12.6"
  }
 },
 "nbformat": 4,
 "nbformat_minor": 5
}
