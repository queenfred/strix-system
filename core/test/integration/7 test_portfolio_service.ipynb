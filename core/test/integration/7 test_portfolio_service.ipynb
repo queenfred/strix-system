{
 "cells": [
  {
   "cell_type": "code",
   "execution_count": 1,
   "metadata": {},
   "outputs": [
    {
     "name": "stdout",
     "output_type": "stream",
     "text": [
      "📁 Proyecto raíz: c:\\Desarrollo\\strix-system\n"
     ]
    }
   ],
   "source": [
    "\n",
    "# 🔧 Setup del proyecto\n",
    "import sys\n",
    "import os\n",
    "\n",
    "project_root = os.path.abspath(os.path.join(os.getcwd(), \"..\", \"..\", \"..\"))\n",
    "if project_root not in sys.path:\n",
    "    sys.path.append(project_root)\n",
    "\n",
    "print(\"📁 Proyecto raíz:\", project_root)"
   ]
  },
  {
   "cell_type": "code",
   "execution_count": 4,
   "metadata": {},
   "outputs": [
    {
     "name": "stdout",
     "output_type": "stream",
     "text": [
      "✅ Conexión a PostgreSQL establecida.\n",
      "✅ Conexión a PostgreSQL establecida.\n",
      "✅ Conexión a S3 establecida con éxito.\n",
      "✅ Conexión a PostgreSQL establecida.\n",
      "✅ Conexión a PostgreSQL establecida.\n",
      "✅ Conexión a PostgreSQL establecida.\n",
      "✅ 106 eventos almacenados en la base de datos.\n",
      "{'success': True, 'processed_domains': [{'domain_id': 4887, 'status': 'SUCCESS'}]}\n"
     ]
    }
   ],
   "source": [
    "from services.portfolio_service import PortfolioService\n",
    "portfolio_service = PortfolioService()\n",
    "\n",
    "# Almacenar los eventos por portfolio dada una fecha desde y hasta\n",
    "\n",
    "# Parámetros de prueba\n",
    "portfolio_id = 101  # Reemplazar con un ID válido\n",
    "start_date = \"2025-03-30\"\n",
    "end_date = \"2025-03-30\"\n",
    "\n",
    "# Instanciar el servicio y ejecutar el procesamiento\n",
    "\n",
    "result = portfolio_service.process_portfolio_events(portfolio_id, start_date, end_date)\n",
    "\n",
    "# Mostrar el resultado\n",
    "print(result)"
   ]
  },
  {
   "cell_type": "code",
   "execution_count": 4,
   "metadata": {},
   "outputs": [],
   "source": [
    "from core.services.domain_service import DomainService"
   ]
  },
  {
   "cell_type": "code",
   "execution_count": null,
   "metadata": {},
   "outputs": [
    {
     "name": "stdout",
     "output_type": "stream",
     "text": [
      "✅ Conexión a S3 establecida con éxito.\n",
      "🚨 ENTER: Se abrió una nueva conexión SQLAlchemy\n",
      "   id   domain                                           id_thing  \\\n",
      "0   1  AF365TZ  mrn:thing:vehicle:d5c8ef51-1a9b-4bbd-812d-a1f9...   \n",
      "1   2  AG094UK  mrn:thing:vehicle:c216a34d-1d55-4dab-9e2d-e895...   \n",
      "2   3  AH075MN  mrn:thing:vehicle:5a8c6f1a-9d4a-4b4e-a891-ceb6...   \n",
      "3   4  AH275AN  mrn:thing:vehicle:2c6f9089-3210-43ed-a7d2-6586...   \n",
      "4   5  AE023RB  mrn:thing:vehicle:b2a7f6de-fec0-4ec5-93b7-5ee3...   \n",
      "\n",
      "                                         id_account  \n",
      "0  mrn:account:c6c322cf-6f2c-40b0-a56f-75a6d8ccf364  \n",
      "1  mrn:account:a7601dc5-3b89-4d4c-a901-6b3064814341  \n",
      "2  mrn:account:eb388f49-069b-4df6-9712-63214e2f4bd4  \n",
      "3  mrn:account:663f99b2-75b8-457e-9aae-7009d5ea4cf4  \n",
      "4  mrn:account:6d99640a-5485-4bf1-bbfa-3dc904f9ff63  \n"
     ]
    }
   ],
   "source": [
    "domain_service = DomainService()\n",
    "\n",
    "result = domain_service.get_all_domains()\n",
    "\n",
    "import pandas as pd\n",
    "\n",
    "df = pd.DataFrame(result)\n"
   ]
  },
  {
   "cell_type": "code",
   "execution_count": 15,
   "metadata": {},
   "outputs": [
    {
     "name": "stdout",
     "output_type": "stream",
     "text": [
      "0    1\n",
      "1    2\n",
      "2    3\n",
      "3    4\n",
      "4    5\n",
      "Name: id, dtype: int64\n"
     ]
    }
   ],
   "source": [
    "print(df[\"id\"].head())\n",
    "valid_domain_ids=df[\"id\"]"
   ]
  },
  {
   "cell_type": "code",
   "execution_count": 17,
   "metadata": {},
   "outputs": [
    {
     "name": "stdout",
     "output_type": "stream",
     "text": [
      "✅ Conexión a S3 establecida con éxito.\n",
      "📂 Creando un nuevo portfolio con estos dominios...\n",
      "🚨 ENTER: Se abrió una nueva conexión SQLAlchemy\n",
      "✅ Portfolio creada con ID 1\n",
      "✅ Portfolio 1 creado exitosamente.\n"
     ]
    }
   ],
   "source": [
    "from core.services.portfolio_service import PortfolioService\n",
    "portfolio_service = PortfolioService()\n",
    "\n",
    "print(\"📂 Creando un nuevo portfolio con estos dominios...\")\n",
    "portfolio_id = portfolio_service.create_portfolio_with_domains(\n",
    "    \"Portfolio Hilux\", valid_domain_ids)\n",
    "if not portfolio_id:\n",
    "    print(\"❌ Error al crear el portfolio. Abortando proceso.\")\n",
    "    \n",
    "print(f\"✅ Portfolio {portfolio_id} creado exitosamente.\")\n",
    "\n",
    "    "
   ]
  },
  {
   "cell_type": "code",
   "execution_count": null,
   "metadata": {},
   "outputs": [],
   "source": []
  },
  {
   "cell_type": "markdown",
   "metadata": {},
   "source": [
    "CREAR PORTFOLIO DESDE SCRIPT"
   ]
  },
  {
   "cell_type": "code",
   "execution_count": 2,
   "metadata": {},
   "outputs": [
    {
     "name": "stdout",
     "output_type": "stream",
     "text": [
      "✅ Nueva Conexión a PostgreSQL establecida.\n",
      "✅ Conexión exitosa a PostgreSQL.\n",
      "(1156, 'POD184', 'mrn:thing:vehicle:2af6cf29-2796-4559-af31-e9f1bf269199', 'mrn:account:28b9e069-0ca7-45ef-828f-ed7ad328f423', datetime.datetime(2025, 4, 28, 18, 12, 9))\n",
      "✅ Consulta ejecutada con éxito.\n"
     ]
    }
   ],
   "source": [
    "from core.infraestructure.db.postgres import Postgres\n",
    "\n",
    "# Instancia de la conexión\n",
    "db = Postgres()\n",
    "\n",
    "# Prueba la conexión\n",
    "engine = db.connPostgres()\n",
    "\n",
    "# Valida el resultado\n",
    "if engine:\n",
    "    print(\"✅ Conexión exitosa a PostgreSQL.\")\n",
    "else:\n",
    "    print(\"❌ Error al conectar con PostgreSQL.\")\n",
    "    \n",
    "from sqlalchemy import text\n",
    "\n",
    "query = f\"\"\"\n",
    "select d.* from strix.vvehicle\n",
    "inner join public.\"domain\" d on d.id_thing = strix.vvehicle.id\n",
    " where LTRIM(make) like '%CHEVROLET%' and LTRIM(model) like  ('%ONIX%') and strix.vvehicle.location_datetime is not null and  strix.vvehicle.location_datetime > '2025-04-01 00:01:00.000 -0300' and strix.vvehicle.created_datetime > '2025-01-01 00:01:00.000 -0300'\n",
    "\n",
    "\"\"\"\n",
    "\n",
    "\n",
    "with engine.connect() as conn:\n",
    "    result = conn.execute(text(query))\n",
    "    print(result.fetchone())\n",
    "    if result is not None:\n",
    "        #df_results.to_csv(\"resultados2.csv\", index=False)\n",
    "        print(\"✅ Consulta ejecutada con éxito.\")\n",
    "    else:\n",
    "        print(\"❌ No se obtuvieron resultados.\")"
   ]
  },
  {
   "cell_type": "code",
   "execution_count": 3,
   "metadata": {},
   "outputs": [
    {
     "name": "stdout",
     "output_type": "stream",
     "text": [
      "0    1158\n",
      "1    1160\n",
      "2    1161\n",
      "3    1164\n",
      "4    1165\n",
      "Name: id, dtype: int64\n"
     ]
    }
   ],
   "source": [
    "import pandas as pd\n",
    "\n",
    "df = pd.DataFrame(result)\n",
    "print(df[\"id\"].head())\n",
    "valid_domain_ids=df[\"id\"]"
   ]
  },
  {
   "cell_type": "code",
   "execution_count": 4,
   "metadata": {},
   "outputs": [
    {
     "name": "stdout",
     "output_type": "stream",
     "text": [
      "✅ Conexión a S3 establecida con éxito.\n",
      "📂 Creando un nuevo portfolio con estos dominios...\n",
      "🚨 ENTER: Se abrió una nueva conexión SQLAlchemy\n",
      "✅ Portfolio creada con ID 35\n",
      "✅ Portfolio 35 creado exitosamente.\n"
     ]
    }
   ],
   "source": [
    "from core.services.portfolio_service import PortfolioService\n",
    "portfolio_service = PortfolioService()\n",
    "\n",
    "print(\"📂 Creando un nuevo portfolio con estos dominios...\")\n",
    "portfolio_id = portfolio_service.create_portfolio_with_domains(\n",
    "    \"Portfolio Chevrolet Onix\", valid_domain_ids)\n",
    "if not portfolio_id:\n",
    "    print(\"❌ Error al crear el portfolio. Abortando proceso.\")\n",
    "    \n",
    "print(f\"✅ Portfolio {portfolio_id} creado exitosamente.\")"
   ]
  }
 ],
 "metadata": {
  "kernelspec": {
   "display_name": "Python 3",
   "language": "python",
   "name": "python3"
  },
  "language_info": {
   "codemirror_mode": {
    "name": "ipython",
    "version": 3
   },
   "file_extension": ".py",
   "mimetype": "text/x-python",
   "name": "python",
   "nbconvert_exporter": "python",
   "pygments_lexer": "ipython3",
   "version": "3.12.6"
  }
 },
 "nbformat": 4,
 "nbformat_minor": 2
}
