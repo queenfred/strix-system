{
 "cells": [
  {
   "cell_type": "code",
   "execution_count": 1,
   "metadata": {},
   "outputs": [
    {
     "name": "stdout",
     "output_type": "stream",
     "text": [
      "🔹 sys.path actualizado: ['C:\\\\Desarrollo\\\\pipeline-master', 'c:\\\\Users\\\\gsolomita\\\\AppData\\\\Local\\\\Programs\\\\Python\\\\Python312\\\\python312.zip', 'c:\\\\Users\\\\gsolomita\\\\AppData\\\\Local\\\\Programs\\\\Python\\\\Python312\\\\DLLs', 'c:\\\\Users\\\\gsolomita\\\\AppData\\\\Local\\\\Programs\\\\Python\\\\Python312\\\\Lib', 'c:\\\\Users\\\\gsolomita\\\\AppData\\\\Local\\\\Programs\\\\Python\\\\Python312', '', 'C:\\\\Users\\\\gsolomita\\\\AppData\\\\Roaming\\\\Python\\\\Python312\\\\site-packages', 'C:\\\\Users\\\\gsolomita\\\\AppData\\\\Roaming\\\\Python\\\\Python312\\\\site-packages\\\\win32', 'C:\\\\Users\\\\gsolomita\\\\AppData\\\\Roaming\\\\Python\\\\Python312\\\\site-packages\\\\win32\\\\lib', 'C:\\\\Users\\\\gsolomita\\\\AppData\\\\Roaming\\\\Python\\\\Python312\\\\site-packages\\\\Pythonwin', 'c:\\\\Users\\\\gsolomita\\\\AppData\\\\Local\\\\Programs\\\\Python\\\\Python312\\\\Lib\\\\site-packages']\n"
     ]
    }
   ],
   "source": [
    "import sys\n",
    "import os\n",
    "\n",
    "ROOT_DIR = os.path.abspath(os.path.join(os.getcwd(), \"..\")) \n",
    "ROOT_DIR\n",
    "\n",
    "# Definir la ruta de la raíz del proyecto\n",
    "ROOT_DIR = r\"C:\\Desarrollo\\pipeline-master\"\n",
    "sys.path.insert(0, ROOT_DIR)  # Agregarla al sys.path\n",
    "\n",
    "# Verificar que se agregó correctamente\n",
    "print(\"🔹 sys.path actualizado:\", sys.path)"
   ]
  },
  {
   "cell_type": "code",
   "execution_count": 3,
   "metadata": {},
   "outputs": [
    {
     "name": "stdout",
     "output_type": "stream",
     "text": [
      "✅ Conexión a PostgreSQL establecida.\n",
      "✅ Evento creado con ID 277713\n",
      "✅ Nuevo evento creado: {'id': 277713, 'id_domain': 4887, 'latitude': -34.599805, 'longitude': -58.909261, 'speed': 0.0, 'event': 'main_power_on', 'timestamp': 1740086367000, 'odometer': 0.0, 'heading': 85}\n"
     ]
    }
   ],
   "source": [
    "from data_access.event_repository import EventRepository\n",
    "event_repo = EventRepository()\n",
    "\n",
    "# Crear un nuevo evento asociado a un dominio existente\n",
    "new_event = event_repo.create_event(\n",
    "    id_domain=4887,\n",
    "    latitude=-34.599805,\n",
    "    longitude=-58.909261,\n",
    "    speed=0.0,\n",
    "    event=\"main_power_on\",\n",
    "    timestamp=1740086367000,  # 🔹 Se mantiene en milisegundos\n",
    "    odometer=0.0,\n",
    "    heading=85\n",
    ")\n",
    "if new_event:\n",
    "    print(f\"✅ Nuevo evento creado: {new_event}\")\n",
    "else:\n",
    "    print(\"❌ No se pudo crear el evento.\")\n",
    "\n"
   ]
  },
  {
   "cell_type": "code",
   "execution_count": 4,
   "metadata": {},
   "outputs": [
    {
     "name": "stdout",
     "output_type": "stream",
     "text": [
      "✅ Conexión a PostgreSQL establecida.\n",
      "✅ Evento encontrado: {'id': 277713, 'id_domain': 4887, 'latitude': -34.599805, 'longitude': -58.909261, 'speed': 0.0, 'event': 'main_power_on', 'timestamp': 1740086367000, 'odometer': 0.0, 'heading': 85}\n"
     ]
    }
   ],
   "source": [
    "from data_access.event_repository import EventRepository\n",
    "event_repo = EventRepository()\n",
    "\n",
    "# Obtener un evento por ID\n",
    "event_id = 277713\n",
    "event = event_repo.get_event_by_id(event_id)\n",
    "if event:\n",
    "    print(f\"✅ Evento encontrado: {event}\")\n",
    "else:\n",
    "    print(f\"⚠️ No se encontró el evento con ID {event_id}.\")"
   ]
  },
  {
   "cell_type": "code",
   "execution_count": 7,
   "metadata": {},
   "outputs": [
    {
     "name": "stdout",
     "output_type": "stream",
     "text": [
      "✅ Conexión a PostgreSQL establecida.\n",
      "{'id': 277597, 'id_domain': 4887, 'latitude': -34.882215, 'longitude': -58.560122, 'speed': 0.0, 'event': 'periodic_report', 'timestamp': 1743639311000, 'odometer': 21260300.0, 'heading': 33}\n",
      "{'id': 277598, 'id_domain': 4887, 'latitude': -34.882215, 'longitude': -58.560122, 'speed': 0.0, 'event': 'periodic_report', 'timestamp': 1743642899000, 'odometer': 21260300.0, 'heading': 33}\n",
      "{'id': 277599, 'id_domain': 4887, 'latitude': -34.882215, 'longitude': -58.560122, 'speed': 0.0, 'event': 'periodic_report', 'timestamp': 1743646489000, 'odometer': 21260300.0, 'heading': 33}\n",
      "{'id': 277600, 'id_domain': 4887, 'latitude': -34.882215, 'longitude': -58.560122, 'speed': 0.0, 'event': 'periodic_report', 'timestamp': 1743650078000, 'odometer': 21260300.0, 'heading': 33}\n",
      "{'id': 277601, 'id_domain': 4887, 'latitude': -34.882215, 'longitude': -58.560122, 'speed': 0.0, 'event': 'periodic_report', 'timestamp': 1743653667000, 'odometer': 21260300.0, 'heading': 33}\n",
      "{'id': 277602, 'id_domain': 4887, 'latitude': -34.882215, 'longitude': -58.560122, 'speed': 0.0, 'event': 'periodic_report', 'timestamp': 1743657256000, 'odometer': 21260300.0, 'heading': 33}\n",
      "{'id': 277603, 'id_domain': 4887, 'latitude': -34.882215, 'longitude': -58.560122, 'speed': 0.0, 'event': 'periodic_report', 'timestamp': 1743660846000, 'odometer': 21260300.0, 'heading': 33}\n",
      "{'id': 277604, 'id_domain': 4887, 'latitude': -34.882215, 'longitude': -58.560122, 'speed': 0.0, 'event': 'periodic_report', 'timestamp': 1743664435000, 'odometer': 21260300.0, 'heading': 33}\n",
      "{'id': 277605, 'id_domain': 4887, 'latitude': -34.882215, 'longitude': -58.560122, 'speed': 0.0, 'event': 'periodic_report', 'timestamp': 1743668024000, 'odometer': 21260300.0, 'heading': 33}\n",
      "{'id': 277606, 'id_domain': 4887, 'latitude': -34.882215, 'longitude': -58.560122, 'speed': 0.0, 'event': 'periodic_report', 'timestamp': 1743671613000, 'odometer': 21260300.0, 'heading': 33}\n",
      "{'id': 277607, 'id_domain': 4887, 'latitude': -34.882215, 'longitude': -58.560122, 'speed': 0.0, 'event': 'periodic_report', 'timestamp': 1743675202000, 'odometer': 21260300.0, 'heading': 33}\n",
      "{'id': 277608, 'id_domain': 4887, 'latitude': -34.882215, 'longitude': -58.560122, 'speed': 0.0, 'event': 'periodic_report', 'timestamp': 1743678791000, 'odometer': 21260300.0, 'heading': 33}\n",
      "{'id': 277609, 'id_domain': 4887, 'latitude': -34.882215, 'longitude': -58.560122, 'speed': 0.0, 'event': 'periodic_report', 'timestamp': 1743682380000, 'odometer': 21260300.0, 'heading': 33}\n",
      "{'id': 277610, 'id_domain': 4887, 'latitude': -34.882215, 'longitude': -58.560122, 'speed': 0.0, 'event': 'contact_on', 'timestamp': 1743683775000, 'odometer': 21260300.0, 'heading': 33}\n",
      "{'id': 277611, 'id_domain': 4887, 'latitude': -34.882264, 'longitude': -58.560021, 'speed': 2.0, 'event': 'restart', 'timestamp': 1743683781000, 'odometer': 21260300.0, 'heading': 33}\n",
      "{'id': 277612, 'id_domain': 4887, 'latitude': -34.882264, 'longitude': -58.560021, 'speed': 2.0, 'event': 'periodic_report', 'timestamp': 1743683781000, 'odometer': 21260300.0, 'heading': 33}\n",
      "{'id': 277613, 'id_domain': 4887, 'latitude': -34.882068, 'longitude': -58.560042, 'speed': 1.0, 'event': 'update', 'timestamp': 1743683805000, 'odometer': 21260300.0, 'heading': 195}\n",
      "{'id': 277614, 'id_domain': 4887, 'latitude': -34.882068, 'longitude': -58.560042, 'speed': 1.0, 'event': 'periodic_report', 'timestamp': 1743683805000, 'odometer': 21260300.0, 'heading': 195}\n",
      "{'id': 277615, 'id_domain': 4887, 'latitude': -34.882065, 'longitude': -58.560033, 'speed': 0.0, 'event': 'periodic_report', 'timestamp': 1743683842000, 'odometer': 21260300.0, 'heading': 195}\n",
      "{'id': 277616, 'id_domain': 4887, 'latitude': -34.882065, 'longitude': -58.560033, 'speed': 0.0, 'event': 'periodic_report', 'timestamp': 1743683872000, 'odometer': 21260300.0, 'heading': 195}\n",
      "{'id': 277617, 'id_domain': 4887, 'latitude': -34.882065, 'longitude': -58.560033, 'speed': 0.0, 'event': 'periodic_report', 'timestamp': 1743683902000, 'odometer': 21260300.0, 'heading': 195}\n",
      "{'id': 277618, 'id_domain': 4887, 'latitude': -34.882065, 'longitude': -58.560033, 'speed': 0.0, 'event': 'periodic_report', 'timestamp': 1743683932000, 'odometer': 21260300.0, 'heading': 195}\n",
      "{'id': 277619, 'id_domain': 4887, 'latitude': -34.882065, 'longitude': -58.560033, 'speed': 0.0, 'event': 'periodic_report', 'timestamp': 1743683962000, 'odometer': 21260300.0, 'heading': 195}\n",
      "{'id': 277620, 'id_domain': 4887, 'latitude': -34.882065, 'longitude': -58.560033, 'speed': 0.0, 'event': 'contact_off', 'timestamp': 1743683972000, 'odometer': 21260300.0, 'heading': 195}\n",
      "{'id': 277621, 'id_domain': 4887, 'latitude': -34.882065, 'longitude': -58.560033, 'speed': 0.0, 'event': 'periodic_report', 'timestamp': 1743683975000, 'odometer': 21260300.0, 'heading': 195}\n",
      "{'id': 277622, 'id_domain': 4887, 'latitude': -34.882065, 'longitude': -58.560033, 'speed': 0.0, 'event': 'periodic_report', 'timestamp': 1743687561000, 'odometer': 21260300.0, 'heading': 195}\n",
      "{'id': 277623, 'id_domain': 4887, 'latitude': -34.882065, 'longitude': -58.560033, 'speed': 0.0, 'event': 'periodic_report', 'timestamp': 1743691150000, 'odometer': 21260300.0, 'heading': 195}\n",
      "{'id': 277624, 'id_domain': 4887, 'latitude': -34.882065, 'longitude': -58.560033, 'speed': 0.0, 'event': 'periodic_report', 'timestamp': 1743694739000, 'odometer': 21260300.0, 'heading': 195}\n",
      "{'id': 277625, 'id_domain': 4887, 'latitude': -34.882065, 'longitude': -58.560033, 'speed': 0.0, 'event': 'periodic_report', 'timestamp': 1743698328000, 'odometer': 21260300.0, 'heading': 195}\n",
      "{'id': 277626, 'id_domain': 4887, 'latitude': -34.882065, 'longitude': -58.560033, 'speed': 0.0, 'event': 'periodic_report', 'timestamp': 1743701918000, 'odometer': 21260300.0, 'heading': 195}\n",
      "{'id': 277627, 'id_domain': 4887, 'latitude': -34.882065, 'longitude': -58.560033, 'speed': 0.0, 'event': 'periodic_report', 'timestamp': 1743705507000, 'odometer': 21260300.0, 'heading': 195}\n",
      "{'id': 277628, 'id_domain': 4887, 'latitude': -34.882065, 'longitude': -58.560033, 'speed': 0.0, 'event': 'periodic_report', 'timestamp': 1743709096000, 'odometer': 21260300.0, 'heading': 195}\n",
      "{'id': 277629, 'id_domain': 4887, 'latitude': -34.882065, 'longitude': -58.560033, 'speed': 0.0, 'event': 'periodic_report', 'timestamp': 1743712686000, 'odometer': 21260300.0, 'heading': 195}\n",
      "{'id': 277630, 'id_domain': 4887, 'latitude': -34.882065, 'longitude': -58.560033, 'speed': 0.0, 'event': 'contact_on', 'timestamp': 1743715427000, 'odometer': 21260300.0, 'heading': 195}\n",
      "{'id': 277631, 'id_domain': 4887, 'latitude': -34.882084, 'longitude': -58.55994, 'speed': 0.0, 'event': 'restart', 'timestamp': 1743715434000, 'odometer': 21260300.0, 'heading': 195}\n",
      "{'id': 277632, 'id_domain': 4887, 'latitude': -34.882084, 'longitude': -58.55994, 'speed': 0.0, 'event': 'periodic_report', 'timestamp': 1743715434000, 'odometer': 21260300.0, 'heading': 195}\n",
      "{'id': 277633, 'id_domain': 4887, 'latitude': -34.882079, 'longitude': -58.559973, 'speed': 0.0, 'event': 'update', 'timestamp': 1743715459000, 'odometer': 21260300.0, 'heading': 195}\n",
      "{'id': 277634, 'id_domain': 4887, 'latitude': -34.882079, 'longitude': -58.559973, 'speed': 0.0, 'event': 'periodic_report', 'timestamp': 1743715459000, 'odometer': 21260300.0, 'heading': 195}\n",
      "{'id': 277635, 'id_domain': 4887, 'latitude': -34.882079, 'longitude': -58.559973, 'speed': 0.0, 'event': 'periodic_report', 'timestamp': 1743715498000, 'odometer': 21260300.0, 'heading': 195}\n",
      "{'id': 277636, 'id_domain': 4887, 'latitude': -34.882079, 'longitude': -58.559973, 'speed': 0.0, 'event': 'periodic_report', 'timestamp': 1743715528000, 'odometer': 21260300.0, 'heading': 195}\n",
      "{'id': 277637, 'id_domain': 4887, 'latitude': -34.882079, 'longitude': -58.559973, 'speed': 0.0, 'event': 'periodic_report', 'timestamp': 1743715558000, 'odometer': 21260300.0, 'heading': 195}\n",
      "{'id': 277638, 'id_domain': 4887, 'latitude': -34.882079, 'longitude': -58.559973, 'speed': 0.0, 'event': 'periodic_report', 'timestamp': 1743715587000, 'odometer': 21260300.0, 'heading': 195}\n",
      "{'id': 277639, 'id_domain': 4887, 'latitude': -34.882079, 'longitude': -58.559973, 'speed': 0.0, 'event': 'contact_off', 'timestamp': 1743715598000, 'odometer': 21260300.0, 'heading': 195}\n",
      "{'id': 277640, 'id_domain': 4887, 'latitude': -34.882079, 'longitude': -58.559973, 'speed': 0.0, 'event': 'periodic_report', 'timestamp': 1743715602000, 'odometer': 21260300.0, 'heading': 195}\n",
      "{'id': 277641, 'id_domain': 4887, 'latitude': -34.882079, 'longitude': -58.559973, 'speed': 0.0, 'event': 'periodic_report', 'timestamp': 1743719187000, 'odometer': 21260300.0, 'heading': 195}\n",
      "{'id': 277642, 'id_domain': 4887, 'latitude': -34.882079, 'longitude': -58.559973, 'speed': 0.0, 'event': 'periodic_report', 'timestamp': 1743722776000, 'odometer': 21260300.0, 'heading': 195}\n",
      "{'id': 277643, 'id_domain': 4887, 'latitude': -34.882079, 'longitude': -58.559973, 'speed': 0.0, 'event': 'periodic_report', 'timestamp': 1743726365000, 'odometer': 21260300.0, 'heading': 195}\n",
      "{'id': 277644, 'id_domain': 4887, 'latitude': -34.882079, 'longitude': -58.559973, 'speed': 0.0, 'event': 'periodic_report', 'timestamp': 1743729954000, 'odometer': 21260300.0, 'heading': 195}\n",
      "{'id': 277645, 'id_domain': 4887, 'latitude': -34.882079, 'longitude': -58.559973, 'speed': 0.0, 'event': 'periodic_report', 'timestamp': 1743733544000, 'odometer': 21260300.0, 'heading': 195}\n",
      "{'id': 277646, 'id_domain': 4887, 'latitude': -34.882079, 'longitude': -58.559973, 'speed': 0.0, 'event': 'periodic_report', 'timestamp': 1743737133000, 'odometer': 21260300.0, 'heading': 195}\n",
      "{'id': 277647, 'id_domain': 4887, 'latitude': -34.882079, 'longitude': -58.559973, 'speed': 0.0, 'event': 'periodic_report', 'timestamp': 1743740722000, 'odometer': 21260300.0, 'heading': 195}\n",
      "{'id': 277648, 'id_domain': 4887, 'latitude': -34.882079, 'longitude': -58.559973, 'speed': 0.0, 'event': 'periodic_report', 'timestamp': 1743744311000, 'odometer': 21260300.0, 'heading': 195}\n",
      "{'id': 277649, 'id_domain': 4887, 'latitude': -34.882079, 'longitude': -58.559973, 'speed': 0.0, 'event': 'periodic_report', 'timestamp': 1743747900000, 'odometer': 21260300.0, 'heading': 195}\n",
      "{'id': 277650, 'id_domain': 4887, 'latitude': -34.882079, 'longitude': -58.559973, 'speed': 0.0, 'event': 'periodic_report', 'timestamp': 1743751489000, 'odometer': 21260300.0, 'heading': 195}\n",
      "{'id': 277651, 'id_domain': 4887, 'latitude': -34.882079, 'longitude': -58.559973, 'speed': 0.0, 'event': 'periodic_report', 'timestamp': 1743755078000, 'odometer': 21260300.0, 'heading': 195}\n",
      "{'id': 277652, 'id_domain': 4887, 'latitude': -34.882079, 'longitude': -58.559973, 'speed': 0.0, 'event': 'periodic_report', 'timestamp': 1743758668000, 'odometer': 21260300.0, 'heading': 195}\n",
      "{'id': 277653, 'id_domain': 4887, 'latitude': -34.882079, 'longitude': -58.559973, 'speed': 0.0, 'event': 'periodic_report', 'timestamp': 1743762257000, 'odometer': 21260300.0, 'heading': 195}\n",
      "{'id': 277654, 'id_domain': 4887, 'latitude': -34.882079, 'longitude': -58.559973, 'speed': 0.0, 'event': 'periodic_report', 'timestamp': 1743765846000, 'odometer': 21260300.0, 'heading': 195}\n",
      "{'id': 277655, 'id_domain': 4887, 'latitude': -34.882079, 'longitude': -58.559973, 'speed': 0.0, 'event': 'periodic_report', 'timestamp': 1743769435000, 'odometer': 21260300.0, 'heading': 195}\n",
      "{'id': 277656, 'id_domain': 4887, 'latitude': -34.882079, 'longitude': -58.559973, 'speed': 0.0, 'event': 'contact_on', 'timestamp': 1743770528000, 'odometer': 21260300.0, 'heading': 195}\n",
      "{'id': 277657, 'id_domain': 4887, 'latitude': -34.882139, 'longitude': -58.560267, 'speed': 3.0, 'event': 'restart', 'timestamp': 1743770537000, 'odometer': 21260300.0, 'heading': 255}\n",
      "{'id': 277658, 'id_domain': 4887, 'latitude': -34.882139, 'longitude': -58.560267, 'speed': 3.0, 'event': 'periodic_report', 'timestamp': 1743770537000, 'odometer': 21260300.0, 'heading': 255}\n",
      "{'id': 277659, 'id_domain': 4887, 'latitude': -34.882124, 'longitude': -58.559956, 'speed': 0.0, 'event': 'update', 'timestamp': 1743770561000, 'odometer': 21260300.0, 'heading': 256}\n",
      "{'id': 277660, 'id_domain': 4887, 'latitude': -34.882124, 'longitude': -58.559956, 'speed': 0.0, 'event': 'periodic_report', 'timestamp': 1743770561000, 'odometer': 21260300.0, 'heading': 256}\n",
      "{'id': 277661, 'id_domain': 4887, 'latitude': -34.882124, 'longitude': -58.559956, 'speed': 0.0, 'event': 'periodic_report', 'timestamp': 1743770599000, 'odometer': 21260300.0, 'heading': 256}\n",
      "{'id': 277662, 'id_domain': 4887, 'latitude': -34.882124, 'longitude': -58.559956, 'speed': 0.0, 'event': 'periodic_report', 'timestamp': 1743770629000, 'odometer': 21260300.0, 'heading': 256}\n",
      "{'id': 277663, 'id_domain': 4887, 'latitude': -34.882124, 'longitude': -58.559956, 'speed': 0.0, 'event': 'periodic_report', 'timestamp': 1743770659000, 'odometer': 21260300.0, 'heading': 256}\n",
      "{'id': 277664, 'id_domain': 4887, 'latitude': -34.882124, 'longitude': -58.559956, 'speed': 0.0, 'event': 'periodic_report', 'timestamp': 1743770689000, 'odometer': 21260300.0, 'heading': 256}\n",
      "{'id': 277665, 'id_domain': 4887, 'latitude': -34.882124, 'longitude': -58.559956, 'speed': 0.0, 'event': 'contact_off', 'timestamp': 1743770711000, 'odometer': 21260300.0, 'heading': 256}\n",
      "{'id': 277666, 'id_domain': 4887, 'latitude': -34.882124, 'longitude': -58.559956, 'speed': 0.0, 'event': 'periodic_report', 'timestamp': 1743770716000, 'odometer': 21260300.0, 'heading': 256}\n",
      "{'id': 277667, 'id_domain': 4887, 'latitude': -34.882124, 'longitude': -58.559956, 'speed': 0.0, 'event': 'periodic_report', 'timestamp': 1743774298000, 'odometer': 21260300.0, 'heading': 256}\n",
      "{'id': 277668, 'id_domain': 4887, 'latitude': -34.882124, 'longitude': -58.559956, 'speed': 0.0, 'event': 'periodic_report', 'timestamp': 1743777887000, 'odometer': 21260300.0, 'heading': 256}\n",
      "{'id': 277669, 'id_domain': 4887, 'latitude': -34.882124, 'longitude': -58.559956, 'speed': 0.0, 'event': 'periodic_report', 'timestamp': 1743781476000, 'odometer': 21260300.0, 'heading': 256}\n",
      "{'id': 277670, 'id_domain': 4887, 'latitude': -34.882124, 'longitude': -58.559956, 'speed': 0.0, 'event': 'periodic_report', 'timestamp': 1743785066000, 'odometer': 21260300.0, 'heading': 256}\n",
      "{'id': 277671, 'id_domain': 4887, 'latitude': -34.882124, 'longitude': -58.559956, 'speed': 0.0, 'event': 'periodic_report', 'timestamp': 1743788654000, 'odometer': 21260300.0, 'heading': 256}\n",
      "{'id': 277672, 'id_domain': 4887, 'latitude': -34.882124, 'longitude': -58.559956, 'speed': 0.0, 'event': 'periodic_report', 'timestamp': 1743792244000, 'odometer': 21260300.0, 'heading': 256}\n",
      "{'id': 277673, 'id_domain': 4887, 'latitude': -34.882124, 'longitude': -58.559956, 'speed': 0.0, 'event': 'periodic_report', 'timestamp': 1743795833000, 'odometer': 21260300.0, 'heading': 256}\n",
      "{'id': 277674, 'id_domain': 4887, 'latitude': -34.882124, 'longitude': -58.559956, 'speed': 0.0, 'event': 'periodic_report', 'timestamp': 1743799422000, 'odometer': 21260300.0, 'heading': 256}\n",
      "{'id': 277675, 'id_domain': 4887, 'latitude': -34.882124, 'longitude': -58.559956, 'speed': 0.0, 'event': 'periodic_report', 'timestamp': 1743803011000, 'odometer': 21260300.0, 'heading': 256}\n",
      "{'id': 277676, 'id_domain': 4887, 'latitude': -34.882124, 'longitude': -58.559956, 'speed': 0.0, 'event': 'periodic_report', 'timestamp': 1743806600000, 'odometer': 21260300.0, 'heading': 256}\n",
      "{'id': 277677, 'id_domain': 4887, 'latitude': -34.882124, 'longitude': -58.559956, 'speed': 0.0, 'event': 'contact_on', 'timestamp': 1743809562000, 'odometer': 21260300.0, 'heading': 256}\n",
      "{'id': 277678, 'id_domain': 4887, 'latitude': -34.882213, 'longitude': -58.560023, 'speed': 0.0, 'event': 'restart', 'timestamp': 1743809568000, 'odometer': 21260300.0, 'heading': 256}\n",
      "{'id': 277679, 'id_domain': 4887, 'latitude': -34.882213, 'longitude': -58.560023, 'speed': 0.0, 'event': 'periodic_report', 'timestamp': 1743809568000, 'odometer': 21260300.0, 'heading': 256}\n",
      "{'id': 277680, 'id_domain': 4887, 'latitude': -34.882221, 'longitude': -58.560036, 'speed': 0.0, 'event': 'update', 'timestamp': 1743809588000, 'odometer': 21260300.0, 'heading': 256}\n",
      "{'id': 277681, 'id_domain': 4887, 'latitude': -34.882221, 'longitude': -58.560036, 'speed': 0.0, 'event': 'periodic_report', 'timestamp': 1743809588000, 'odometer': 21260300.0, 'heading': 256}\n",
      "{'id': 277682, 'id_domain': 4887, 'latitude': -34.882221, 'longitude': -58.560036, 'speed': 0.0, 'event': 'periodic_report', 'timestamp': 1743809629000, 'odometer': 21260300.0, 'heading': 256}\n",
      "{'id': 277683, 'id_domain': 4887, 'latitude': -34.882221, 'longitude': -58.560036, 'speed': 0.0, 'event': 'periodic_report', 'timestamp': 1743809658000, 'odometer': 21260300.0, 'heading': 256}\n",
      "{'id': 277684, 'id_domain': 4887, 'latitude': -34.882221, 'longitude': -58.560036, 'speed': 0.0, 'event': 'periodic_report', 'timestamp': 1743809689000, 'odometer': 21260300.0, 'heading': 256}\n",
      "{'id': 277685, 'id_domain': 4887, 'latitude': -34.882221, 'longitude': -58.560036, 'speed': 0.0, 'event': 'periodic_report', 'timestamp': 1743809718000, 'odometer': 21260300.0, 'heading': 256}\n",
      "{'id': 277686, 'id_domain': 4887, 'latitude': -34.882221, 'longitude': -58.560036, 'speed': 0.0, 'event': 'periodic_report', 'timestamp': 1743809748000, 'odometer': 21260300.0, 'heading': 256}\n",
      "{'id': 277687, 'id_domain': 4887, 'latitude': -34.882221, 'longitude': -58.560036, 'speed': 0.0, 'event': 'contact_off', 'timestamp': 1743809752000, 'odometer': 21260300.0, 'heading': 256}\n",
      "{'id': 277688, 'id_domain': 4887, 'latitude': -34.882221, 'longitude': -58.560036, 'speed': 0.0, 'event': 'periodic_report', 'timestamp': 1743809756000, 'odometer': 21260300.0, 'heading': 256}\n",
      "{'id': 277689, 'id_domain': 4887, 'latitude': -34.882221, 'longitude': -58.560036, 'speed': 0.0, 'event': 'contact_on', 'timestamp': 1743810506000, 'odometer': 21260300.0, 'heading': 256}\n",
      "{'id': 277690, 'id_domain': 4887, 'latitude': -34.882195, 'longitude': -58.559981, 'speed': 0.0, 'event': 'periodic_report', 'timestamp': 1743810507000, 'odometer': 21260300.0, 'heading': 256}\n",
      "{'id': 277691, 'id_domain': 4887, 'latitude': -34.882188, 'longitude': -58.559988, 'speed': 0.0, 'event': 'periodic_report', 'timestamp': 1743810546000, 'odometer': 21260300.0, 'heading': 256}\n",
      "{'id': 277692, 'id_domain': 4887, 'latitude': -34.882188, 'longitude': -58.559988, 'speed': 0.0, 'event': 'periodic_report', 'timestamp': 1743810576000, 'odometer': 21260300.0, 'heading': 256}\n",
      "{'id': 277693, 'id_domain': 4887, 'latitude': -34.882188, 'longitude': -58.559988, 'speed': 0.0, 'event': 'periodic_report', 'timestamp': 1743810606000, 'odometer': 21260300.0, 'heading': 256}\n",
      "{'id': 277694, 'id_domain': 4887, 'latitude': -34.882188, 'longitude': -58.559988, 'speed': 0.0, 'event': 'periodic_report', 'timestamp': 1743810636000, 'odometer': 21260300.0, 'heading': 256}\n",
      "{'id': 277695, 'id_domain': 4887, 'latitude': -34.882188, 'longitude': -58.559988, 'speed': 0.0, 'event': 'periodic_report', 'timestamp': 1743810666000, 'odometer': 21260300.0, 'heading': 256}\n",
      "{'id': 277696, 'id_domain': 4887, 'latitude': -34.882188, 'longitude': -58.559988, 'speed': 0.0, 'event': 'periodic_report', 'timestamp': 1743810696000, 'odometer': 21260300.0, 'heading': 256}\n",
      "{'id': 277697, 'id_domain': 4887, 'latitude': -34.882188, 'longitude': -58.559988, 'speed': 0.0, 'event': 'periodic_report', 'timestamp': 1743810726000, 'odometer': 21260300.0, 'heading': 256}\n",
      "{'id': 277698, 'id_domain': 4887, 'latitude': -34.882188, 'longitude': -58.559988, 'speed': 0.0, 'event': 'periodic_report', 'timestamp': 1743810756000, 'odometer': 21260300.0, 'heading': 256}\n",
      "{'id': 277699, 'id_domain': 4887, 'latitude': -34.882188, 'longitude': -58.559988, 'speed': 0.0, 'event': 'periodic_report', 'timestamp': 1743810786000, 'odometer': 21260300.0, 'heading': 256}\n",
      "{'id': 277700, 'id_domain': 4887, 'latitude': -34.882188, 'longitude': -58.559988, 'speed': 0.0, 'event': 'periodic_report', 'timestamp': 1743810816000, 'odometer': 21260300.0, 'heading': 256}\n",
      "{'id': 277701, 'id_domain': 4887, 'latitude': -34.882188, 'longitude': -58.559988, 'speed': 0.0, 'event': 'periodic_report', 'timestamp': 1743810846000, 'odometer': 21260300.0, 'heading': 256}\n",
      "{'id': 277702, 'id_domain': 4887, 'latitude': -34.882188, 'longitude': -58.559988, 'speed': 0.0, 'event': 'periodic_report', 'timestamp': 1743810876000, 'odometer': 21260300.0, 'heading': 256}\n",
      "{'id': 277703, 'id_domain': 4887, 'latitude': -34.882188, 'longitude': -58.559988, 'speed': 0.0, 'event': 'periodic_report', 'timestamp': 1743810906000, 'odometer': 21260300.0, 'heading': 256}\n",
      "{'id': 277704, 'id_domain': 4887, 'latitude': -34.882188, 'longitude': -58.559988, 'speed': 0.0, 'event': 'periodic_report', 'timestamp': 1743810936000, 'odometer': 21260300.0, 'heading': 256}\n",
      "{'id': 277705, 'id_domain': 4887, 'latitude': -34.882188, 'longitude': -58.559988, 'speed': 0.0, 'event': 'periodic_report', 'timestamp': 1743810966000, 'odometer': 21260300.0, 'heading': 256}\n",
      "{'id': 277706, 'id_domain': 4887, 'latitude': -34.882188, 'longitude': -58.559988, 'speed': 0.0, 'event': 'periodic_report', 'timestamp': 1743810995000, 'odometer': 21260300.0, 'heading': 256}\n",
      "{'id': 277707, 'id_domain': 4887, 'latitude': -34.882188, 'longitude': -58.559988, 'speed': 0.0, 'event': 'periodic_report', 'timestamp': 1743811025000, 'odometer': 21260300.0, 'heading': 256}\n",
      "{'id': 277708, 'id_domain': 4887, 'latitude': -34.882188, 'longitude': -58.559988, 'speed': 0.0, 'event': 'periodic_report', 'timestamp': 1743811055000, 'odometer': 21260300.0, 'heading': 256}\n",
      "{'id': 277709, 'id_domain': 4887, 'latitude': -34.882188, 'longitude': -58.559988, 'speed': 0.0, 'event': 'periodic_report', 'timestamp': 1743811085000, 'odometer': 21260300.0, 'heading': 256}\n",
      "{'id': 277710, 'id_domain': 4887, 'latitude': -34.882188, 'longitude': -58.559988, 'speed': 0.0, 'event': 'periodic_report', 'timestamp': 1743811115000, 'odometer': 21260300.0, 'heading': 256}\n",
      "{'id': 277711, 'id_domain': 4887, 'latitude': -34.882188, 'longitude': -58.559988, 'speed': 0.0, 'event': 'contact_off', 'timestamp': 1743811130000, 'odometer': 21260300.0, 'heading': 256}\n",
      "{'id': 277712, 'id_domain': 4887, 'latitude': -34.88219, 'longitude': -58.559985, 'speed': 0.0, 'event': 'periodic_report', 'timestamp': 1743811132000, 'odometer': 21260300.0, 'heading': 256}\n"
     ]
    }
   ],
   "source": [
    "from data_access.event_repository import EventRepository\n",
    "event_repo = EventRepository()\n",
    "\n",
    "# Parámetros de prueba\n",
    "id_domain = 4887  # Reemplázalo con un ID válido en tu BD\n",
    "desde = \"01/04/2025\"  # Fecha en formato dd/mm/yyyy\n",
    "hasta = \"05/04/2025\"\n",
    "\n",
    "# Ejecutar la consulta\n",
    "resultados = event_repo.get_events_by_domain_and_date(id_domain, desde, hasta)\n",
    "\n",
    "# Mostrar los resultados\n",
    "if resultados:\n",
    "    for event in resultados:\n",
    "        print(event)\n",
    "else:\n",
    "    print(\"⚠️ No se encontraron eventos en el rango de fechas.\")"
   ]
  }
 ],
 "metadata": {
  "kernelspec": {
   "display_name": "Python 3",
   "language": "python",
   "name": "python3"
  },
  "language_info": {
   "codemirror_mode": {
    "name": "ipython",
    "version": 3
   },
   "file_extension": ".py",
   "mimetype": "text/x-python",
   "name": "python",
   "nbconvert_exporter": "python",
   "pygments_lexer": "ipython3",
   "version": "3.12.6"
  }
 },
 "nbformat": 4,
 "nbformat_minor": 2
}
