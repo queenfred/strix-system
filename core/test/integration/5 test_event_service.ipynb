{
 "cells": [
  {
   "cell_type": "code",
   "execution_count": 1,
   "metadata": {},
   "outputs": [
    {
     "name": "stdout",
     "output_type": "stream",
     "text": [
      "🔹 sys.path actualizado: ['C:/Desarrollo/strix-system', 'c:\\\\Users\\\\gsolomita\\\\AppData\\\\Local\\\\Programs\\\\Python\\\\Python312\\\\python312.zip', 'c:\\\\Users\\\\gsolomita\\\\AppData\\\\Local\\\\Programs\\\\Python\\\\Python312\\\\DLLs', 'c:\\\\Users\\\\gsolomita\\\\AppData\\\\Local\\\\Programs\\\\Python\\\\Python312\\\\Lib', 'c:\\\\Users\\\\gsolomita\\\\AppData\\\\Local\\\\Programs\\\\Python\\\\Python312', '', 'C:\\\\Users\\\\gsolomita\\\\AppData\\\\Roaming\\\\Python\\\\Python312\\\\site-packages', 'C:\\\\Users\\\\gsolomita\\\\AppData\\\\Roaming\\\\Python\\\\Python312\\\\site-packages\\\\win32', 'C:\\\\Users\\\\gsolomita\\\\AppData\\\\Roaming\\\\Python\\\\Python312\\\\site-packages\\\\win32\\\\lib', 'C:\\\\Users\\\\gsolomita\\\\AppData\\\\Roaming\\\\Python\\\\Python312\\\\site-packages\\\\Pythonwin', 'c:\\\\Users\\\\gsolomita\\\\AppData\\\\Local\\\\Programs\\\\Python\\\\Python312\\\\Lib\\\\site-packages']\n"
     ]
    }
   ],
   "source": [
    "import sys\n",
    "import os\n",
    "\n",
    "ROOT_DIR = os.path.abspath(os.path.join(os.getcwd(), \"..\")) \n",
    "ROOT_DIR\n",
    "\n",
    "# Definir la ruta de la raíz del proyecto\n",
    "ROOT_DIR = r\"C:/Desarrollo/strix-system\"\n",
    "sys.path.insert(0, ROOT_DIR)  # Agregarla al sys.path\n",
    "\n",
    "# Verificar que se agregó correctamente\n",
    "print(\"🔹 sys.path actualizado:\", sys.path)"
   ]
  },
  {
   "cell_type": "code",
   "execution_count": 4,
   "metadata": {},
   "outputs": [
    {
     "name": "stdout",
     "output_type": "stream",
     "text": [
      "✅ Conexión a S3 establecida con éxito.\n",
      "🚨 ENTER: Se abrió una nueva conexión SQLAlchemy\n",
      "✅ 538 eventos almacenados en la base de datos.\n",
      "Resultado del procesamiento: SUCCESS\n"
     ]
    }
   ],
   "source": [
    "from core.services.s3_event_service import S3EventService\n",
    "\n",
    "event_service = S3EventService()\n",
    "start_date = '2024-02-10'\n",
    "end_date = '2024-02-20'\n",
    "domain_id = 4918\n",
    "\n",
    "result = event_service.retrieve_and_store_events(start_date, end_date, domain_id)\n",
    "print(f\"Resultado del procesamiento: {result}\")\n",
    "\n",
    "\n"
   ]
  },
  {
   "cell_type": "code",
   "execution_count": null,
   "metadata": {},
   "outputs": [
    {
     "name": "stdout",
     "output_type": "stream",
     "text": [
      "✅ Conexión a PostgreSQL establecida.\n",
      "✅ Conexión a S3 establecida con éxito.\n",
      "✅ Conexión a PostgreSQL establecida.\n",
      "✅ Conexión a PostgreSQL establecida.\n",
      "✅ Conexión a PostgreSQL establecida.\n",
      "✅ Conexión a PostgreSQL establecida.\n",
      "🚨 Error registrado en BD: {'id': 134, 'method': 'retrieve_and_store_events', 'error_type': 'NoSuchKey', 'message': 'Error al procesar ar/magenta/mrn:account:f83a569b-1309-4074-b969-bf2d83cd486a/things/type=mrn:things:vehicle/mrn:thing:vehicle:f70e90fc-0e78-40f8-b2c4-b0ab4b007805/signals/date=2025-02/2025-02-01_dataset.avro: The specified key does not exist.', 'bucket': 'strix-consumer-raw-prod', 's3_key': 'ar/magenta/mrn:account:f83a569b-1309-4074-b969-bf2d83cd486a/things/type=mrn:things:vehicle/mrn:thing:vehicle:f70e90fc-0e78-40f8-b2c4-b0ab4b007805/signals/date=2025-02/2025-02-01_dataset.avro', 'created_at': datetime.datetime(2025, 3, 19, 6, 58, 48, 298807)}\n",
      "✅ 420 eventos almacenados en la base de datos.\n",
      "✅ 23 eventos almacenados en la base de datos.\n",
      "{'success': True, 'processed_domains': [{'domain_id': 1, 'status': 'NO_EVENTS'}, {'domain_id': 2, 'status': 'SUCCESS'}, {'domain_id': 3, 'status': 'SUCCESS'}]}\n"
     ]
    }
   ],
   "source": [
    "\n",
    "\n",
    "# 🔧 Setup del proyecto\n",
    "import sys\n",
    "import os\n",
    "\n",
    "project_root = os.path.abspath(os.path.join(os.getcwd(), \"..\", \"..\", \"..\"))\n",
    "if project_root not in sys.path:\n",
    "    sys.path.append(project_root)\n",
    "\n",
    "print(\"📁 Proyecto raíz:\", project_root)\n",
    "\n",
    "import pandas as pd\n",
    "from datetime import timedelta\n",
    "from core.services.event_service import EventService\n",
    "from core.infraestructure.uow.sqlalchemy_uow import SQLAlchemyUnitOfWork\n",
    "from datetime import datetime\n",
    "\n",
    "# Simular los datos\n",
    "data = {\n",
    "    \"id_domain\": 4918,\n",
    "    \"domain\": \"AA015FC\",\n",
    "    \"fecha_ocurrencia\": pd.to_datetime(\"2024-02-15 00:00:00.000\")\n",
    "}\n",
    "\n",
    "# Inicializar servicios\n",
    "uow = SQLAlchemyUnitOfWork()\n",
    "event_service = EventService(uow)\n",
    "\n",
    "# Variables clave\n",
    "id_domain = data[\"id_domain\"]\n",
    "domain = data[\"domain\"]\n",
    "incident_date = data[\"fecha_ocurrencia\"]\n",
    "\n",
    "# Generar ventana de tiempo y convertir a milisegundos\n",
    "start_date = incident_date.normalize()\n",
    "end_date = start_date + timedelta(days=1) - timedelta(seconds=1)\n",
    "\n",
    "print(f\"🔍 Obteniendo eventos para dominio ID {id_domain} - Rango: {start_date} → {end_date}\")\n",
    "\n",
    "desde=start_date\n",
    "hasta=end_date\n",
    "          # Aceptar datetime, pd.Timestamp o string con formato dd/mm/yyyy\n",
    "if isinstance(start_date, str):\n",
    "    desde = datetime.strptime(start_date, \"%d/%m/%Y\")\n",
    "if isinstance(end_date, str):\n",
    "    hasta = datetime.strptime(end_date, \"%d/%m/%Y\")\n",
    "\n",
    "# Convertir a timestamp en milisegundos (formato de la base)\n",
    "desde_timestamp = int(desde.timestamp() * 1000)\n",
    "hasta_timestamp = int(hasta.timestamp() * 1000)\n",
    "\n",
    "print(f\"🔍  Rango: {desde_timestamp} → {hasta_timestamp}\")\n",
    "\n",
    "\n",
    "# Obtener eventos directamente usando datetime\n",
    "raw_events = event_service.get_events_by_domain_and_date(\n",
    "    id_domain=id_domain,\n",
    "    desde=start_date,\n",
    "    hasta=end_date\n",
    ")\n",
    "\n",
    "# Validación\n",
    "if not raw_events:\n",
    "    print(f\"❌ No se encontraron eventos para id_domain {id_domain}\")\n",
    "else:\n",
    "    print(f\"✅ Se encontraron {len(raw_events)} eventos para el dominio {domain}\")\n",
    "    df_events = pd.DataFrame(raw_events)\n",
    "    print(df_events.head())\n"
   ]
  }
 ],
 "metadata": {
  "kernelspec": {
   "display_name": "Python 3",
   "language": "python",
   "name": "python3"
  },
  "language_info": {
   "codemirror_mode": {
    "name": "ipython",
    "version": 3
   },
   "file_extension": ".py",
   "mimetype": "text/x-python",
   "name": "python",
   "nbconvert_exporter": "python",
   "pygments_lexer": "ipython3",
   "version": "3.12.6"
  }
 },
 "nbformat": 4,
 "nbformat_minor": 2
}
