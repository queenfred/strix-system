{
 "cells": [
  {
   "cell_type": "code",
   "execution_count": 2,
   "metadata": {},
   "outputs": [
    {
     "name": "stdout",
     "output_type": "stream",
     "text": [
      "🔹 sys.path actualizado: ['C:\\\\Desarrollo\\\\pipeline-master', 'C:\\\\Desarrollo\\\\pipeline-master', 'c:\\\\Users\\\\gsolomita\\\\AppData\\\\Local\\\\Programs\\\\Python\\\\Python312\\\\python312.zip', 'c:\\\\Users\\\\gsolomita\\\\AppData\\\\Local\\\\Programs\\\\Python\\\\Python312\\\\DLLs', 'c:\\\\Users\\\\gsolomita\\\\AppData\\\\Local\\\\Programs\\\\Python\\\\Python312\\\\Lib', 'c:\\\\Users\\\\gsolomita\\\\AppData\\\\Local\\\\Programs\\\\Python\\\\Python312', '', 'C:\\\\Users\\\\gsolomita\\\\AppData\\\\Roaming\\\\Python\\\\Python312\\\\site-packages', 'C:\\\\Users\\\\gsolomita\\\\AppData\\\\Roaming\\\\Python\\\\Python312\\\\site-packages\\\\win32', 'C:\\\\Users\\\\gsolomita\\\\AppData\\\\Roaming\\\\Python\\\\Python312\\\\site-packages\\\\win32\\\\lib', 'C:\\\\Users\\\\gsolomita\\\\AppData\\\\Roaming\\\\Python\\\\Python312\\\\site-packages\\\\Pythonwin', 'c:\\\\Users\\\\gsolomita\\\\AppData\\\\Local\\\\Programs\\\\Python\\\\Python312\\\\Lib\\\\site-packages']\n"
     ]
    }
   ],
   "source": [
    "import sys\n",
    "import os\n",
    "\n",
    "ROOT_DIR = os.path.abspath(os.path.join(os.getcwd(), \"..\")) \n",
    "ROOT_DIR\n",
    "\n",
    "# Definir la ruta de la raíz del proyecto\n",
    "ROOT_DIR = r\"C:\\Desarrollo\\pipeline-master\"\n",
    "sys.path.insert(0, ROOT_DIR)  # Agregarla al sys.path\n",
    "\n",
    "# Verificar que se agregó correctamente\n",
    "print(\"🔹 sys.path actualizado:\", sys.path)"
   ]
  },
  {
   "cell_type": "code",
   "execution_count": 3,
   "metadata": {},
   "outputs": [
    {
     "name": "stdout",
     "output_type": "stream",
     "text": [
      "✅ Conexión a PostgreSQL establecida.\n",
      "✅ Portfolio creada con ID 101\n",
      "✅ Nueva portfolio creada: {'id': 101, 'name': 'Test_2domain'}\n",
      "✅ portfolios encontradas:\n",
      "{'id': 101, 'name': 'Test_2domain'}\n"
     ]
    }
   ],
   "source": [
    "from data_access.portfolio_repository import PortfolioRepository\n",
    "portfolio_repo = PortfolioRepository()\n",
    "\n",
    "# Crear una nueva portfolio\n",
    "new_portfolio = portfolio_repo.create_portfolio(\"Test_2domain\")\n",
    "if new_portfolio:\n",
    "    print(f\"✅ Nueva portfolio creada: {new_portfolio}\")\n",
    "else:\n",
    "    print(\"❌ Error al crear la portfolio.\")\n",
    "\n",
    "# Obtener todas las portfolios\n",
    "portfolios = portfolio_repo.get_all_portfolios()\n",
    "if portfolios:\n",
    "    print(\"✅ portfolios encontradas:\")\n",
    "    for portfolio in portfolios:\n",
    "        print(portfolio)\n",
    "else:\n",
    "    print(\"⚠️ No se encontraron portfolios.\")"
   ]
  },
  {
   "cell_type": "code",
   "execution_count": 4,
   "metadata": {},
   "outputs": [
    {
     "name": "stdout",
     "output_type": "stream",
     "text": [
      "✅ Conexión a PostgreSQL establecida.\n",
      "✅ Portfolio encontrada: {'id': 101, 'name': 'Test_2domain'}\n"
     ]
    }
   ],
   "source": [
    "from data_access.portfolio_repository import PortfolioRepository\n",
    "portfolio_repo = PortfolioRepository()\n",
    "\n",
    "# Buscar una portfolio por ID\n",
    "portfolio_id = 101\n",
    "portfolio = portfolio_repo.get_portfolio_by_id(portfolio_id)\n",
    "if portfolio:\n",
    "    print(f\"✅ Portfolio encontrada: {portfolio}\")\n",
    "else:\n",
    "    print(f\"⚠️ No se encontró la portfolio con ID {portfolio_id}.\")\n",
    "\n"
   ]
  },
  {
   "cell_type": "code",
   "execution_count": null,
   "metadata": {},
   "outputs": [],
   "source": [
    "from data_access.portfolio_repository import PortfolioRepository\n",
    "portfolio_repo = PortfolioRepository()\n",
    "# Eliminar una portfolio\n",
    "deleted = portfolio_repo.delete_portfolio(portfolio_id)\n",
    "if deleted:\n",
    "    print(f\"✅ Portfolio con ID {portfolio_id} eliminada.\")\n",
    "else:\n",
    "    print(f\"⚠️ No se pudo eliminar la portfolio con ID {portfolio_id}.\")"
   ]
  }
 ],
 "metadata": {
  "kernelspec": {
   "display_name": "Python 3",
   "language": "python",
   "name": "python3"
  },
  "language_info": {
   "codemirror_mode": {
    "name": "ipython",
    "version": 3
   },
   "file_extension": ".py",
   "mimetype": "text/x-python",
   "name": "python",
   "nbconvert_exporter": "python",
   "pygments_lexer": "ipython3",
   "version": "3.12.6"
  }
 },
 "nbformat": 4,
 "nbformat_minor": 2
}
