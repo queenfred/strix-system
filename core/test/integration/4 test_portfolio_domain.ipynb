{
 "cells": [
  {
   "cell_type": "code",
   "execution_count": 1,
   "metadata": {},
   "outputs": [],
   "source": [
    "import sys\n",
    "import os\n",
    "\n",
    "# Agregar la ruta al proyecto para importar core desde security\n",
    "sys.path.append(\"C:/Desarrollo/strix-system\")"
   ]
  },
  {
   "cell_type": "code",
   "execution_count": 3,
   "metadata": {},
   "outputs": [
    {
     "name": "stdout",
     "output_type": "stream",
     "text": [
      "✅ Conexión a PostgreSQL establecida.\n",
      "✅ Relación Portfolio-Domain creada: {'portfolio_id': 101, 'domain_id': 4885, 'state': True, 'fecha_alta': datetime.datetime(2025, 4, 7, 23, 41, 35, 771778), 'fecha_baja': None}\n",
      "✅ Nueva relación creada: {'portfolio_id': 101, 'domain_id': 4885, 'state': True, 'fecha_alta': datetime.datetime(2025, 4, 7, 23, 41, 35, 771778), 'fecha_baja': None}\n"
     ]
    }
   ],
   "source": [
    "from data_access.portfolio_domain_repository import PortfolioDomainRepository\n",
    "portfolio_domain_repo = PortfolioDomainRepository()\n",
    "\n",
    "# Crear una relación Portfolio-Domain\n",
    "portfolio_id = 101\n",
    "domain_id = 4885\n",
    "new_portfolio_domain = portfolio_domain_repo.create_portfolio_domain(portfolio_id, domain_id)\n",
    "\n",
    "if new_portfolio_domain:\n",
    "    print(f\"✅ Nueva relación creada: {new_portfolio_domain}\")\n",
    "else:\n",
    "    print(\"❌ No se pudo crear la relación.\")"
   ]
  },
  {
   "cell_type": "code",
   "execution_count": 4,
   "metadata": {},
   "outputs": [
    {
     "name": "stdout",
     "output_type": "stream",
     "text": [
      "✅ Conexión a PostgreSQL establecida.\n",
      "✅ Relación encontrada: {'portfolio_id': 101, 'domain_id': 4885, 'state': True, 'fecha_alta': datetime.datetime(2025, 4, 7, 23, 41, 35, 771778), 'fecha_baja': None}\n"
     ]
    }
   ],
   "source": [
    "from data_access.portfolio_domain_repository import PortfolioDomainRepository\n",
    "portfolio_domain_repo = PortfolioDomainRepository()\n",
    "portfolio_id = 101\n",
    "domain_id = 4885\n",
    "\n",
    "# Obtener una relación Portfolio-Domain\n",
    "portfolio_domain = portfolio_domain_repo.get_portfolio_domain(portfolio_id, domain_id)\n",
    "if portfolio_domain:\n",
    "    print(f\"✅ Relación encontrada: {portfolio_domain}\")\n",
    "else:\n",
    "    print(f\"⚠️ No se encontró la relación con Portfolio ID {portfolio_id} y Domain ID {domain_id}.\")"
   ]
  },
  {
   "cell_type": "code",
   "execution_count": 7,
   "metadata": {},
   "outputs": [
    {
     "name": "stdout",
     "output_type": "stream",
     "text": [
      "✅ Conexión a PostgreSQL establecida.\n",
      "⚠️ No existe una relación activa Portfolio-Domain con Portfolio ID 35 y Domain ID 1.\n",
      "⚠️ No se pudo realizar el borrado lógico de la relación.\n"
     ]
    }
   ],
   "source": [
    "from data_access.portfolio_domain_repository import PortfolioDomainRepository\n",
    "portfolio_domain_repo = PortfolioDomainRepository()\n",
    "\n",
    "portfolio_id = 35\n",
    "domain_id = 1\n",
    "\n",
    "# Borrado lógico de la relación Portfolio-Domain\n",
    "deleted = portfolio_domain_repo.delete_portfolio_domain(portfolio_id, domain_id)\n",
    "if deleted:\n",
    "    print(f\"✅ Relación Portfolio-Domain con Portfolio ID {portfolio_id} y Domain ID {domain_id} marcada como eliminada.\")\n",
    "else:\n",
    "    print(f\"⚠️ No se pudo realizar el borrado lógico de la relación.\")"
   ]
  },
  {
   "cell_type": "code",
   "execution_count": 5,
   "metadata": {},
   "outputs": [
    {
     "name": "stdout",
     "output_type": "stream",
     "text": [
      "✅ Conexión a PostgreSQL establecida.\n",
      "✅ Detalles de Portfolio-Domain: {'portfolio_name': 'Test_2domain', 'domain_name': 'AD959HD', 'id_thing': 'mrn:thing:vehicle:5b18031e-b0fc-42a1-b415-089ac8be56f1', 'id_account': 'mrn:account:da55e34d-380a-44a6-8a05-2f5160a4ef65', 'state': True, 'fecha_alta': '2025-04-07 23:41:35', 'fecha_baja': None}\n"
     ]
    }
   ],
   "source": [
    "from data_access.portfolio_domain_repository import PortfolioDomainRepository\n",
    "\n",
    "portfolio_domain_repo = PortfolioDomainRepository()\n",
    "\n",
    "portfolio_id = 101\n",
    "domain_id = 4885\n",
    "\n",
    "# Obtener detalles de la relación Portfolio-Domain\n",
    "portfolio_domain_details = portfolio_domain_repo.get_portfolio_domain_details(portfolio_id, domain_id)\n",
    "if portfolio_domain_details:\n",
    "    print(f\"✅ Detalles de Portfolio-Domain: {portfolio_domain_details}\")\n",
    "else:\n",
    "    print(f\"⚠️ No se encontró la relación con Portfolio ID {portfolio_id} y Domain ID {domain_id}.\")"
   ]
  },
  {
   "cell_type": "code",
   "execution_count": null,
   "metadata": {},
   "outputs": [
    {
     "ename": "TypeError",
     "evalue": "PortfolioDomainRepository.__init__() missing 1 required positional argument: 'session'",
     "output_type": "error",
     "traceback": [
      "\u001b[1;31m---------------------------------------------------------------------------\u001b[0m",
      "\u001b[1;31mTypeError\u001b[0m                                 Traceback (most recent call last)",
      "Cell \u001b[1;32mIn[2], line 3\u001b[0m\n\u001b[0;32m      1\u001b[0m \u001b[38;5;28;01mfrom\u001b[39;00m \u001b[38;5;21;01mcore\u001b[39;00m\u001b[38;5;21;01m.\u001b[39;00m\u001b[38;5;21;01mdata_access\u001b[39;00m\u001b[38;5;21;01m.\u001b[39;00m\u001b[38;5;21;01mportfolio_domain_repository\u001b[39;00m \u001b[38;5;28;01mimport\u001b[39;00m PortfolioDomainRepository\n\u001b[1;32m----> 3\u001b[0m portfolio_domain_repo \u001b[38;5;241m=\u001b[39m \u001b[43mPortfolioDomainRepository\u001b[49m\u001b[43m(\u001b[49m\u001b[43m)\u001b[49m\n\u001b[0;32m      4\u001b[0m \u001b[38;5;66;03m# Obtener todas las relaciones activas\u001b[39;00m\n\u001b[0;32m      5\u001b[0m all_portfolio_domains \u001b[38;5;241m=\u001b[39m portfolio_domain_repo\u001b[38;5;241m.\u001b[39mget_all_portfolio_domains()\n",
      "\u001b[1;31mTypeError\u001b[0m: PortfolioDomainRepository.__init__() missing 1 required positional argument: 'session'"
     ]
    }
   ],
   "source": [
    "from core.data_access.portfolio_domain_repository import PortfolioDomainRepository\n",
    "from core.services.portfolio_service import PortfolioService\n",
    "\n",
    "portfolio_domain_repo = PortfolioService()\n",
    "# Obtener todas las relaciones activas\n",
    "all_portfolio_domains = portfolio_domain_repo.get_all_portfolio_domains()\n",
    "if all_portfolio_domains:\n",
    "    print(\"✅ Relaciones activas:\")\n",
    "    for wd in all_portfolio_domains:\n",
    "        print(wd)\n",
    "else:\n",
    "    print(\"⚠️ No hay relaciones Portfolio-Domain activas.\")"
   ]
  },
  {
   "cell_type": "code",
   "execution_count": 7,
   "metadata": {},
   "outputs": [
    {
     "name": "stdout",
     "output_type": "stream",
     "text": [
      "✅ Conexión a PostgreSQL establecida.\n"
     ]
    },
    {
     "data": {
      "text/plain": [
       "[4885]"
      ]
     },
     "execution_count": 7,
     "metadata": {},
     "output_type": "execute_result"
    }
   ],
   "source": [
    "from data_access.portfolio_domain_repository import PortfolioDomainRepository\n",
    "portfolio_domain_repo = PortfolioDomainRepository()\n",
    "\n",
    "portfolio_id=101\n",
    "\n",
    "domain_ids = portfolio_domain_repo.get_domains_by_portfolio(portfolio_id)\n",
    "\n",
    "domain_ids"
   ]
  }
 ],
 "metadata": {
  "kernelspec": {
   "display_name": "Python 3",
   "language": "python",
   "name": "python3"
  },
  "language_info": {
   "codemirror_mode": {
    "name": "ipython",
    "version": 3
   },
   "file_extension": ".py",
   "mimetype": "text/x-python",
   "name": "python",
   "nbconvert_exporter": "python",
   "pygments_lexer": "ipython3",
   "version": "3.12.6"
  }
 },
 "nbformat": 4,
 "nbformat_minor": 2
}
