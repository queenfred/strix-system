{
 "cells": [
  {
   "cell_type": "code",
   "execution_count": 2,
   "metadata": {},
   "outputs": [
    {
     "name": "stdout",
     "output_type": "stream",
     "text": [
      "🔹 sys.path actualizado: ['C:\\\\Desarrollo\\\\pipeline-master', 'c:\\\\Users\\\\gsolomita\\\\AppData\\\\Local\\\\Programs\\\\Python\\\\Python312\\\\python312.zip', 'c:\\\\Users\\\\gsolomita\\\\AppData\\\\Local\\\\Programs\\\\Python\\\\Python312\\\\DLLs', 'c:\\\\Users\\\\gsolomita\\\\AppData\\\\Local\\\\Programs\\\\Python\\\\Python312\\\\Lib', 'c:\\\\Users\\\\gsolomita\\\\AppData\\\\Local\\\\Programs\\\\Python\\\\Python312', '', 'C:\\\\Users\\\\gsolomita\\\\AppData\\\\Roaming\\\\Python\\\\Python312\\\\site-packages', 'C:\\\\Users\\\\gsolomita\\\\AppData\\\\Roaming\\\\Python\\\\Python312\\\\site-packages\\\\win32', 'C:\\\\Users\\\\gsolomita\\\\AppData\\\\Roaming\\\\Python\\\\Python312\\\\site-packages\\\\win32\\\\lib', 'C:\\\\Users\\\\gsolomita\\\\AppData\\\\Roaming\\\\Python\\\\Python312\\\\site-packages\\\\Pythonwin', 'c:\\\\Users\\\\gsolomita\\\\AppData\\\\Local\\\\Programs\\\\Python\\\\Python312\\\\Lib\\\\site-packages']\n"
     ]
    }
   ],
   "source": [
    "import sys\n",
    "import os\n",
    "\n",
    "ROOT_DIR = os.path.abspath(os.path.join(os.getcwd(), \"..\")) \n",
    "ROOT_DIR\n",
    "\n",
    "# Definir la ruta de la raíz del proyecto\n",
    "ROOT_DIR = r\"C:\\Desarrollo\\pipeline-master\"\n",
    "sys.path.insert(0, ROOT_DIR)  # Agregarla al sys.path\n",
    "\n",
    "# Verificar que se agregó correctamente\n",
    "print(\"🔹 sys.path actualizado:\", sys.path)"
   ]
  },
  {
   "cell_type": "code",
   "execution_count": 6,
   "metadata": {},
   "outputs": [
    {
     "name": "stdout",
     "output_type": "stream",
     "text": [
      "✅ Conexión a PostgreSQL establecida.\n",
      "✅ Domain encontrado: {'id': 4885, 'domain': 'AD959HD', 'id_thing': 'mrn:thing:vehicle:5b18031e-b0fc-42a1-b415-089ac8be56f1', 'id_account': 'mrn:account:da55e34d-380a-44a6-8a05-2f5160a4ef65'}\n"
     ]
    }
   ],
   "source": [
    "from data_access.domain_repository import DomainRepository\n",
    "domain_repo = DomainRepository()\n",
    "\n",
    "# Buscar un domain por ID\n",
    "domain_id = 4885\n",
    "domain = domain_repo.get_domain_by_id(domain_id)\n",
    "if domain:\n",
    "    print(f\"✅ Domain encontrado: {domain}\")\n",
    "else:\n",
    "    print(f\"⚠️ No se encontró el domain con ID {domain_id}.\")"
   ]
  },
  {
   "cell_type": "code",
   "execution_count": null,
   "metadata": {},
   "outputs": [
    {
     "name": "stdout",
     "output_type": "stream",
     "text": [
      "✅ Conexión a PostgreSQL establecida.\n",
      "⚠️ No se encontró el domain con nombre RERL883294.\n"
     ]
    }
   ],
   "source": [
    "from data_access.domain_repository import DomainRepository\n",
    "domain_repo = DomainRepository()\n",
    "domain_name = \"AD959HD\"\n",
    "domain = domain_repo.get_domain_by_name(domain_name)\n",
    "\n",
    "if domain:\n",
    "    print(f\"✅ Domain encontrado: {domain}\")\n",
    "else:\n",
    "    print(f\"⚠️ No se encontró el domain con nombre {domain_name}.\")"
   ]
  },
  {
   "cell_type": "code",
   "execution_count": 5,
   "metadata": {},
   "outputs": [
    {
     "name": "stdout",
     "output_type": "stream",
     "text": [
      "✅ Conexión a PostgreSQL establecida.\n",
      "⚠️ No se encontró el domain con ID 99999999.\n",
      "⚠️ No se pudo eliminar el domain con ID 99999999.\n"
     ]
    }
   ],
   "source": [
    "from data_access.domain_repository import DomainRepository\n",
    "domain_repo = DomainRepository()\n",
    "domain_id = 99999999\n",
    "# Eliminar un domain\n",
    "deleted = domain_repo.delete_domain(domain_id)\n",
    "if deleted:\n",
    "    print(f\"✅ Domain con ID {domain_id} eliminado.\")\n",
    "else:\n",
    "    print(f\"⚠️ No se pudo eliminar el domain con ID {domain_id}.\")"
   ]
  }
 ],
 "metadata": {
  "kernelspec": {
   "display_name": "Python 3",
   "language": "python",
   "name": "python3"
  },
  "language_info": {
   "codemirror_mode": {
    "name": "ipython",
    "version": 3
   },
   "file_extension": ".py",
   "mimetype": "text/x-python",
   "name": "python",
   "nbconvert_exporter": "python",
   "pygments_lexer": "ipython3",
   "version": "3.12.6"
  }
 },
 "nbformat": 4,
 "nbformat_minor": 2
}
